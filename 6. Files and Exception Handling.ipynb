{
 "cells": [
  {
   "cell_type": "markdown",
   "metadata": {},
   "source": [
    "## File Handling in Python\n",
    "\n",
    "* Python too supports file handling and allows users to handle files i.e., to read and write files, along with many other \n",
    "file handling options, to operate on files. \n",
    "\n",
    "* The concept of file handling has stretched over various other languages, but the implementation is either complicated \n",
    "or lengthy, but alike other concepts of Python, this concept here is also easy and short. \n",
    "\n",
    "* Python treats file differently as text or binary and this is important. Each line of code includes a sequence of \n",
    "characters and they form text file.\n",
    "\n",
    "* Each line of a file is terminated with a special character, called the EOL or End of Line characters like comma {,} or \n",
    "newline character. \n",
    "\n",
    "* It ends the current line and tells the interpreter a new one has begun. Let’s start with Reading and Writing files.\n",
    "\n",
    "\n",
    "\n",
    "### Working of open() function\n",
    "\n",
    "* We use open () function in Python to open a file in read or write mode. \n",
    "\n",
    "* As explained above, open ( ) will return a file object. \n",
    "* To return a file object we use open() function along with two arguments, that accepts file name and the mode, \n",
    "whether to read or write. So, the syntax being: open(filename, mode). \n",
    "* There are three kinds of mode, that Python provides and how files can be opened:\n",
    "    * “ r “, for reading.\n",
    "    * “ w “, for writing.\n",
    "    * “ a “, for appending.\n",
    "    * “ r+ “, for both reading and writing"
   ]
  },
  {
   "cell_type": "code",
   "execution_count": null,
   "metadata": {},
   "outputs": [],
   "source": [
    "f = open(\"test.txt\", 'r') # open file in current directory\n",
    "f"
   ]
  },
  {
   "cell_type": "code",
   "execution_count": null,
   "metadata": {},
   "outputs": [],
   "source": [
    "f = open('Test.txt')\n",
    "f"
   ]
  },
  {
   "cell_type": "code",
   "execution_count": null,
   "metadata": {},
   "outputs": [],
   "source": [
    "f1 = open(\"C:/Test.txt\")  # specifying full path"
   ]
  },
  {
   "cell_type": "code",
   "execution_count": null,
   "metadata": {},
   "outputs": [],
   "source": [
    "f1"
   ]
  },
  {
   "cell_type": "code",
   "execution_count": null,
   "metadata": {},
   "outputs": [],
   "source": [
    "import os\n",
    "os.getcwd()"
   ]
  },
  {
   "cell_type": "code",
   "execution_count": null,
   "metadata": {},
   "outputs": [],
   "source": [
    "# f = open(\"test.txt\")      # equivalent to 'r' or 'rt'\n",
    "f = open(\"testnow.txt\",'w')  # write in text mode"
   ]
  },
  {
   "cell_type": "code",
   "execution_count": null,
   "metadata": {},
   "outputs": [],
   "source": [
    "f = open('Test2.txt', 'w')"
   ]
  },
  {
   "cell_type": "code",
   "execution_count": null,
   "metadata": {},
   "outputs": [],
   "source": [
    "# Closing the file\n",
    "f.close()"
   ]
  },
  {
   "cell_type": "code",
   "execution_count": null,
   "metadata": {},
   "outputs": [],
   "source": [
    "#Exceptions\n",
    "try:\n",
    "    f = open(\"testnow.txt\",'w')\n",
    "    f.write('This is my first line\\n')\n",
    "    f.write('This is my second line\\n')\n",
    "finally:\n",
    "    f.close()"
   ]
  },
  {
   "cell_type": "code",
   "execution_count": null,
   "metadata": {},
   "outputs": [],
   "source": [
    "# Using With Method\n",
    "with open(\"test.txt\") as f:\n",
    "    print(f.readlines())"
   ]
  },
  {
   "cell_type": "code",
   "execution_count": null,
   "metadata": {},
   "outputs": [],
   "source": [
    "# Writing contents inside the file\n",
    "\n",
    "with open(\"testnew.txt\",'w') as f:\n",
    "    f.write(\"my first file\\n\")\n",
    "    f.write(\"This file\\n\")\n",
    "    f.write(\"contains three lines\\n\")"
   ]
  },
  {
   "cell_type": "code",
   "execution_count": null,
   "metadata": {},
   "outputs": [],
   "source": [
    "f = open('testnew.txt')\n",
    "f.readlines()"
   ]
  },
  {
   "cell_type": "code",
   "execution_count": null,
   "metadata": {},
   "outputs": [],
   "source": [
    "f = open(\"Test.txt\",'r')\n",
    "f.read(4)   # read the first 4 data"
   ]
  },
  {
   "cell_type": "code",
   "execution_count": null,
   "metadata": {},
   "outputs": [],
   "source": [
    "f.read(10)"
   ]
  },
  {
   "cell_type": "code",
   "execution_count": null,
   "metadata": {},
   "outputs": [],
   "source": [
    "f = open(\"test.txt\",'r')\n",
    "\n",
    "x = f.readlines()\n",
    "x"
   ]
  },
  {
   "cell_type": "code",
   "execution_count": null,
   "metadata": {},
   "outputs": [],
   "source": [
    "f.read(4)    # read the next 4 data"
   ]
  },
  {
   "cell_type": "code",
   "execution_count": null,
   "metadata": {},
   "outputs": [],
   "source": [
    "f.read(10)     # read in the rest till end of file"
   ]
  },
  {
   "cell_type": "code",
   "execution_count": null,
   "metadata": {},
   "outputs": [],
   "source": [
    "f.read()  # further reading returns empty sting"
   ]
  },
  {
   "cell_type": "code",
   "execution_count": null,
   "metadata": {},
   "outputs": [],
   "source": [
    "f.tell()   # get the current file position"
   ]
  },
  {
   "cell_type": "code",
   "execution_count": null,
   "metadata": {},
   "outputs": [],
   "source": [
    "f.seek(0)   # bring file cursor to initial position"
   ]
  },
  {
   "cell_type": "code",
   "execution_count": null,
   "metadata": {},
   "outputs": [],
   "source": [
    "f.read(5)"
   ]
  },
  {
   "cell_type": "code",
   "execution_count": null,
   "metadata": {},
   "outputs": [],
   "source": [
    "print(f.read())  # read the entire file"
   ]
  },
  {
   "cell_type": "code",
   "execution_count": null,
   "metadata": {},
   "outputs": [],
   "source": [
    "for line in f:\n",
    "    print(line, end = '')"
   ]
  },
  {
   "cell_type": "code",
   "execution_count": null,
   "metadata": {},
   "outputs": [],
   "source": [
    "f.readline()"
   ]
  },
  {
   "cell_type": "code",
   "execution_count": null,
   "metadata": {},
   "outputs": [],
   "source": [
    "f.readline()"
   ]
  },
  {
   "cell_type": "code",
   "execution_count": null,
   "metadata": {},
   "outputs": [],
   "source": [
    "f.readline()"
   ]
  },
  {
   "cell_type": "code",
   "execution_count": null,
   "metadata": {},
   "outputs": [],
   "source": [
    "f.readline()"
   ]
  },
  {
   "cell_type": "code",
   "execution_count": null,
   "metadata": {},
   "outputs": [],
   "source": [
    "f.readlines()"
   ]
  },
  {
   "cell_type": "code",
   "execution_count": null,
   "metadata": {},
   "outputs": [],
   "source": [
    "f = open(\"myfile1.txt\", \"x\")"
   ]
  },
  {
   "cell_type": "code",
   "execution_count": null,
   "metadata": {},
   "outputs": [],
   "source": [
    "f.write(\"my first file\\n\")\n",
    "f.write(\"This file\\n\")\n",
    "f.write(\"contains three lines\\n\")"
   ]
  },
  {
   "cell_type": "code",
   "execution_count": null,
   "metadata": {},
   "outputs": [],
   "source": [
    "f=open('myfile1.txt','r')"
   ]
  },
  {
   "cell_type": "code",
   "execution_count": null,
   "metadata": {},
   "outputs": [],
   "source": [
    "f.readlines()"
   ]
  },
  {
   "cell_type": "code",
   "execution_count": null,
   "metadata": {},
   "outputs": [],
   "source": [
    "import os\n",
    "os.chdir('..')\n",
    "os.remove(\"myfile1.txt\")"
   ]
  },
  {
   "cell_type": "code",
   "execution_count": null,
   "metadata": {},
   "outputs": [],
   "source": [
    "import os\n",
    "if os.path.exists(\"myfile.txt\"):\n",
    "    os.remove(\"myfile.txt\")\n",
    "else:\n",
    "    print(\"The file does not exist\")"
   ]
  },
  {
   "cell_type": "code",
   "execution_count": null,
   "metadata": {},
   "outputs": [],
   "source": [
    "f = open('Test.txt')"
   ]
  },
  {
   "cell_type": "code",
   "execution_count": null,
   "metadata": {},
   "outputs": [],
   "source": [
    "f"
   ]
  },
  {
   "cell_type": "code",
   "execution_count": null,
   "metadata": {},
   "outputs": [],
   "source": [
    "f = open('Test.txt','a+')"
   ]
  },
  {
   "cell_type": "markdown",
   "metadata": {},
   "source": [
    "## Exceptions Handling\n",
    "\n",
    "* Like other languages, python also provides the runtime errors via exception handling method with the help of try-except. \n",
    "* Some of the standard exceptions which are most frequent include IndexError, ImportError, IOError, ZeroDivisionError, TypeError.\n",
    "\n",
    "### Try and Except\n",
    "* A try statement can have more than one except clause, to specify handlers for different exceptions. \n",
    "* Please note that at most one handler will be executed.\n",
    "\n",
    "### Else Clause:\n",
    "* In python, you can also use else clause on try-except block which must be present after all the except clauses.\n",
    "* The code enters the else block only if the try clause does not raise an exception.\n",
    "\n",
    "### Raising Exception:\n",
    "* The raise statement allows the programmer to force a specific exception to occur. \n",
    "* The sole argument in raise indicates the exception to be raised. This must be either an exception instance or an exception class (a class that derives from Exception).\n",
    "\n",
    "### try...finally\n",
    "* The try statement in Python can have an optional finally clause. This clause is executed no matter what, and is generally used to release external resources.\n",
    "\n",
    "* For example, we may be connected to a remote data center through the network or working with a file or working with a Graphical User Interface (GUI).\n",
    "\n",
    "* In all these circumstances, we must clean up the resource once used, whether it was successful or not. \n",
    "* These actions (closing a file, GUI or disconnecting from network) are performed in the finally clause to guarantee execution."
   ]
  },
  {
   "cell_type": "code",
   "execution_count": null,
   "metadata": {},
   "outputs": [],
   "source": [
    "if a < 3"
   ]
  },
  {
   "cell_type": "code",
   "execution_count": null,
   "metadata": {},
   "outputs": [],
   "source": [
    "a = 10"
   ]
  },
  {
   "cell_type": "code",
   "execution_count": null,
   "metadata": {},
   "outputs": [],
   "source": [
    "1 / 0"
   ]
  },
  {
   "cell_type": "code",
   "execution_count": null,
   "metadata": {},
   "outputs": [],
   "source": [
    "open(\"imaginary.txt\")"
   ]
  },
  {
   "cell_type": "code",
   "execution_count": null,
   "metadata": {},
   "outputs": [],
   "source": [
    "try:\n",
    "    print(1/0)\n",
    "except NameError:\n",
    "    print(\"Variable x is not defined\")\n",
    "except:\n",
    "    print(\"Something else went wrong\")"
   ]
  },
  {
   "cell_type": "code",
   "execution_count": null,
   "metadata": {},
   "outputs": [],
   "source": [
    "X = 'New'\n",
    "x = 'new'"
   ]
  },
  {
   "cell_type": "code",
   "execution_count": null,
   "metadata": {},
   "outputs": [],
   "source": [
    "try:\n",
    "  print(X*x)\n",
    "except:\n",
    "  print(\"Something went wrong\")\n",
    "else:\n",
    "  print(\"Nothing went wrong\")"
   ]
  },
  {
   "cell_type": "code",
   "execution_count": null,
   "metadata": {},
   "outputs": [],
   "source": [
    "try:\n",
    "  print(Y)\n",
    "except:\n",
    "  print(\"Something went wrong\")\n",
    "finally:\n",
    "  print(\"The 'try except' is finished\")"
   ]
  },
  {
   "cell_type": "code",
   "execution_count": null,
   "metadata": {},
   "outputs": [],
   "source": [
    "a = [1, 2, 3] \n",
    "try:  \n",
    "    print (\"Second element = %d\" %(a[1])) \n",
    "    print (\"Fourth element = %d\" %(a[3]))\n",
    "except IndexError: \n",
    "    print (\"An error occurred\")"
   ]
  },
  {
   "cell_type": "code",
   "execution_count": null,
   "metadata": {},
   "outputs": [],
   "source": [
    "# to handle multiple errors with one except statement \n",
    "try :  \n",
    "    a = 3\n",
    "    if a < 4 : \n",
    "        b = a/(a-3)  # throws ZeroDivisionError for a = 3  \n",
    "    print (\"Value of b = \", b)  # throws NameError if a >= 4\n",
    "  \n",
    "# note that braces () are necessary here for multiple exceptions \n",
    "except(ZeroDivisionError, NameError): \n",
    "    print (\"Error Occurred and Handled\")"
   ]
  },
  {
   "cell_type": "code",
   "execution_count": null,
   "metadata": {},
   "outputs": [],
   "source": [
    "# to depict else clause with try-except \n",
    "  \n",
    "# Function which returns a/b \n",
    "def AbyB(a , b): \n",
    "    try: \n",
    "        c = ((a+b) / (a-b)) \n",
    "    except ZeroDivisionError: \n",
    "        print (\"a/b result in 0\")\n",
    "    else: \n",
    "        print(c) \n",
    "  \n",
    "# Driver program to test above function \n",
    "AbyB(2, 3) \n",
    "AbyB(3, 3)"
   ]
  },
  {
   "cell_type": "code",
   "execution_count": null,
   "metadata": {},
   "outputs": [],
   "source": [
    "try: \n",
    "    f = open('missing') \n",
    "except FileNotFoundError: \n",
    "        print('File not Found') \n",
    "except OSError: \n",
    "        print('OS Failed')"
   ]
  },
  {
   "cell_type": "code",
   "execution_count": null,
   "metadata": {},
   "outputs": [],
   "source": [
    "f = open('missing')"
   ]
  },
  {
   "cell_type": "code",
   "execution_count": null,
   "metadata": {},
   "outputs": [],
   "source": [
    "try:   \n",
    "    a = 10/0\n",
    "    print(a)\n",
    "except ArithmeticError:   \n",
    "        print (\"This statement is raising an arithmetic exception\")\n",
    "else:   \n",
    "    print (\"Success\")"
   ]
  },
  {
   "cell_type": "code",
   "execution_count": null,
   "metadata": {},
   "outputs": [],
   "source": [
    "# import module sys to get the type of exception\n",
    "import sys\n",
    "\n",
    "randomList = ['a', 0, 2]\n",
    "\n",
    "for entry in randomList:\n",
    "    try:\n",
    "        print(\"The entry is\", entry)\n",
    "        r = 1/int(entry)\n",
    "        break\n",
    "    except:\n",
    "        print(\"Oops!\",sys.exc_info()[0],\"occured.\")\n",
    "        print(\"Next entry.\")\n",
    "        print()\n",
    "print(\"The reciprocal of\",entry,\"is\",r)"
   ]
  },
  {
   "cell_type": "code",
   "execution_count": null,
   "metadata": {},
   "outputs": [],
   "source": [
    "try:\n",
    "    a = int(input(\"Enter a positive integer: \"))\n",
    "    print(a)\n",
    "    if a <= 0:\n",
    "        raise ValueError(\"That is not a positive number!\")\n",
    "    else:\n",
    "        print(a*25)\n",
    "except ValueError as ve:\n",
    "    print(ve)"
   ]
  },
  {
   "cell_type": "code",
   "execution_count": null,
   "metadata": {},
   "outputs": [],
   "source": [
    "try:\n",
    "    f = open(\"test.txt\",'w', encoding = 'utf-8')\n",
    "    f.write('gutyjbkj')\n",
    "    f.write('gjhguytuytufuty')\n",
    "   # perform file operations\n",
    "finally:\n",
    "    f.close()"
   ]
  }
 ],
 "metadata": {
  "kernelspec": {
   "display_name": "Python 3",
   "language": "python",
   "name": "python3"
  },
  "language_info": {
   "codemirror_mode": {
    "name": "ipython",
    "version": 3
   },
   "file_extension": ".py",
   "mimetype": "text/x-python",
   "name": "python",
   "nbconvert_exporter": "python",
   "pygments_lexer": "ipython3",
   "version": "3.7.4"
  }
 },
 "nbformat": 4,
 "nbformat_minor": 2
}
