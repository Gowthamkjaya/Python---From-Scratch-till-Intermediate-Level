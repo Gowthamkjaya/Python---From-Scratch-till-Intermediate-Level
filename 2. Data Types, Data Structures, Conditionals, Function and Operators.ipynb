{
 "cells": [
  {
   "cell_type": "markdown",
   "metadata": {
    "colab_type": "text",
    "id": "6R3fVGFhmAWQ"
   },
   "source": [
    "# Python basics - Data Types, Data Structures and Operators"
   ]
  },
  {
   "cell_type": "markdown",
   "metadata": {
    "colab_type": "text",
    "id": "3PfdRGpGmAWS"
   },
   "source": [
    "#### Basic data types"
   ]
  },
  {
   "cell_type": "markdown",
   "metadata": {
    "colab_type": "text",
    "id": "a694M29UmAWT"
   },
   "source": [
    "##### Numbers\n",
    "\n",
    "* Integers and floats work as you would expect from other languages:\n"
   ]
  },
  {
   "cell_type": "code",
   "execution_count": null,
   "metadata": {
    "colab": {
     "autoexec": {
      "startup": false,
      "wait_interval": 0
     }
    },
    "colab_type": "code",
    "id": "pUqj5vnjmAWW"
   },
   "outputs": [],
   "source": [
    "x = 4"
   ]
  },
  {
   "cell_type": "code",
   "execution_count": null,
   "metadata": {
    "colab": {
     "autoexec": {
      "startup": false,
      "wait_interval": 0
     }
    },
    "colab_type": "code",
    "id": "j4QX7CKImAWa",
    "outputId": "ee390b73-deb6-41ed-d483-14770db539a4"
   },
   "outputs": [],
   "source": [
    "print(x)\n",
    "type(x)"
   ]
  },
  {
   "cell_type": "code",
   "execution_count": null,
   "metadata": {
    "colab": {
     "autoexec": {
      "startup": false,
      "wait_interval": 0
     }
    },
    "colab_type": "code",
    "id": "HaSdR5hlmAWf",
    "outputId": "0298ca29-7b14-46da-ad68-a75a2b60eded"
   },
   "outputs": [],
   "source": [
    "print(type(x))"
   ]
  },
  {
   "cell_type": "code",
   "execution_count": null,
   "metadata": {
    "colab": {
     "autoexec": {
      "startup": false,
      "wait_interval": 0
     }
    },
    "colab_type": "code",
    "id": "J4XLsRRXmAWj",
    "outputId": "ab4a3ad2-5f17-47e9-82c7-947d1effc794"
   },
   "outputs": [],
   "source": [
    "print(x + 1)   # Addition;\n",
    "print(x - 1)   # Subtraction;\n",
    "print(x * 2)   # Multiplication;\n",
    "print(x ** 2)  # Exponentiation;"
   ]
  },
  {
   "cell_type": "code",
   "execution_count": null,
   "metadata": {
    "colab": {
     "autoexec": {
      "startup": false,
      "wait_interval": 0
     }
    },
    "colab_type": "code",
    "id": "c_XL0I_gmAWm",
    "outputId": "c23b84fe-d629-44bc-f037-c04dfb78e0da"
   },
   "outputs": [],
   "source": [
    "x += 1\n",
    "print(x)"
   ]
  },
  {
   "cell_type": "code",
   "execution_count": null,
   "metadata": {},
   "outputs": [],
   "source": [
    "x // 2 # Floor Division"
   ]
  },
  {
   "cell_type": "code",
   "execution_count": null,
   "metadata": {
    "colab": {
     "autoexec": {
      "startup": false,
      "wait_interval": 0
     }
    },
    "colab_type": "code",
    "id": "yvi6iyYmmAWp"
   },
   "outputs": [],
   "source": [
    "x *= 2\n",
    "print(x)"
   ]
  },
  {
   "cell_type": "code",
   "execution_count": null,
   "metadata": {
    "colab": {
     "autoexec": {
      "startup": false,
      "wait_interval": 0
     }
    },
    "colab_type": "code",
    "id": "_7TdRWkimAWt",
    "outputId": "7c095d33-31f4-4ced-b238-cc6bc72d1492"
   },
   "outputs": [],
   "source": [
    "y = 2.5\n",
    "print(y)\n",
    "type(y) "
   ]
  },
  {
   "cell_type": "code",
   "execution_count": null,
   "metadata": {
    "colab": {
     "autoexec": {
      "startup": false,
      "wait_interval": 0
     }
    },
    "colab_type": "code",
    "id": "Prf2wHdVmAWw"
   },
   "outputs": [],
   "source": [
    "print(y + 1, y * 2, y ** 2) # Prints \"3.5 5.0 6.25\""
   ]
  },
  {
   "cell_type": "markdown",
   "metadata": {
    "colab_type": "text",
    "id": "Hu8lRFksmAWy"
   },
   "source": [
    "#### ACTIVITY:\n",
    "Create a variable called 'pi' and assign the float value 3.1415 to it. Print the value of pi."
   ]
  },
  {
   "cell_type": "markdown",
   "metadata": {
    "colab_type": "text",
    "id": "XpMuDP09mAW4"
   },
   "source": [
    "##### Booleans\n",
    "* Python implements all of the usual operators for Boolean logic, but uses English words rather than symbols (`&&`, `||`, etc.):"
   ]
  },
  {
   "cell_type": "code",
   "execution_count": null,
   "metadata": {},
   "outputs": [],
   "source": [
    "\"P\" == \"p\""
   ]
  },
  {
   "cell_type": "code",
   "execution_count": null,
   "metadata": {
    "colab": {
     "autoexec": {
      "startup": false,
      "wait_interval": 0
     }
    },
    "colab_type": "code",
    "id": "T5MRPnFkmAW4",
    "outputId": "48dd7517-6dfc-4dd8-8560-eac03e76153e"
   },
   "outputs": [],
   "source": [
    "t, f = True, False\n",
    "print(type(t))"
   ]
  },
  {
   "cell_type": "code",
   "execution_count": null,
   "metadata": {
    "colab": {
     "autoexec": {
      "startup": false,
      "wait_interval": 0
     }
    },
    "colab_type": "code",
    "id": "62_ipHVVmAW7",
    "outputId": "f2350727-8471-4e73-9f38-efe2e5b62ba8"
   },
   "outputs": [],
   "source": [
    "print(t and f) # Logical AND;)\n",
    "print(t or f)  # Logical OR;)\n",
    "print(not t)   # Logical NOT;)\n",
    "print(t != f)  # Logical Not Equal to;)"
   ]
  },
  {
   "cell_type": "code",
   "execution_count": null,
   "metadata": {
    "colab": {
     "autoexec": {
      "startup": false,
      "wait_interval": 0
     }
    },
    "colab_type": "code",
    "id": "d9YgMPvwmAW_",
    "outputId": "90d1204e-fbb0-41a7-b9b6-290dcca0f5e8"
   },
   "outputs": [],
   "source": [
    "print(t & f) # Logical AND;\n",
    "print(t | f) # Logical OR;"
   ]
  },
  {
   "cell_type": "markdown",
   "metadata": {
    "colab_type": "text",
    "id": "IIswMh3GmAXC"
   },
   "source": [
    "##### Strings"
   ]
  },
  {
   "cell_type": "code",
   "execution_count": null,
   "metadata": {
    "colab": {
     "autoexec": {
      "startup": false,
      "wait_interval": 0
     }
    },
    "colab_type": "code",
    "id": "GnpnZghRmAXD",
    "outputId": "3b9c3023-307a-4544-f6a0-f3fb785649ae"
   },
   "outputs": [],
   "source": [
    "hell = 'helloooooooo'   # String literals can use single quotes\n",
    "war = \"world\"   # or double quotes; it does not matter.\n",
    "print(war)\n",
    "len(hell)"
   ]
  },
  {
   "cell_type": "code",
   "execution_count": null,
   "metadata": {
    "colab": {
     "autoexec": {
      "startup": false,
      "wait_interval": 0
     }
    },
    "colab_type": "code",
    "id": "mWzq74qcmAXF",
    "outputId": "46e584d0-a96d-4ed2-c05d-f96f20d4704d"
   },
   "outputs": [],
   "source": [
    "hw = hell + \" \"+ war   # String concatenation\n",
    "print(hw)"
   ]
  },
  {
   "cell_type": "code",
   "execution_count": null,
   "metadata": {},
   "outputs": [],
   "source": [
    "x = 12.9\n",
    "int(x)"
   ]
  },
  {
   "cell_type": "code",
   "execution_count": null,
   "metadata": {
    "colab": {
     "autoexec": {
      "startup": false,
      "wait_interval": 0
     }
    },
    "colab_type": "code",
    "id": "6ZXlmZ-0mAXH",
    "outputId": "6e4bc2d7-7303-42f3-b853-c232034042cb",
    "scrolled": true
   },
   "outputs": [],
   "source": [
    "hw12 = '%s %s %d' % (hell, war, 12)  # s printf style string formatting\n",
    "print(hw12)\n",
    "print(type(hw12))"
   ]
  },
  {
   "cell_type": "markdown",
   "metadata": {
    "colab_type": "text",
    "id": "PSzy7sipmAXL"
   },
   "source": [
    "#### String objects have a bunch of useful methods; for example:"
   ]
  },
  {
   "cell_type": "code",
   "execution_count": null,
   "metadata": {
    "colab": {
     "autoexec": {
      "startup": false,
      "wait_interval": 0
     }
    },
    "colab_type": "code",
    "id": "cWRlW4i3mAXM",
    "outputId": "cbbd7ef0-4562-4297-ea7c-cd4590defdf6",
    "scrolled": true
   },
   "outputs": [],
   "source": [
    "s = \"hello\"\n",
    "print(s.capitalize())  # Capitalize a string\n",
    "print(s.upper())       # Convert a string to uppercase\n",
    "print(s.lower())       # Convert a string to Lowercase\n",
    "print(s.replace('l', '(ell)'))  # Replace all instances of one substring with another;\n",
    "print('     world     ')  # Strip leading and trailing whitespace\n",
    "print('    world     '.strip())"
   ]
  },
  {
   "cell_type": "markdown",
   "metadata": {
    "colab_type": "text",
    "id": "Qr10z7kimAXO"
   },
   "source": [
    "#### ACTIVITY:\n",
    "Create a variable 'firstString' and assign the value 'I am' to it. Create another variable 'secondString' and assign the value 'from Besant Batch' to it. \n",
    "\n",
    "Create an integer variable 'batchNo' and assign the value 32 to it. Concatenate and print such that the result looks this:\n",
    "\"Hello there: I AM FROM Besant BATCH 32!!!\""
   ]
  },
  {
   "cell_type": "markdown",
   "metadata": {
    "colab_type": "text",
    "id": "9sZoGIxgmAXV"
   },
   "source": [
    "## Lists\n",
    "\n",
    "* Lists are just like the arrays, declared in other languages.\n",
    "* A single list may contain DataTypes like Integers, Strings, as well as Objects. Lists are mutable, and hence, they can be altered even after their creation.\n",
    "\n",
    "* List in Python are ordered and have a definite count. \n",
    "* The elements in a list are indexed according to a definite sequence and the indexing of a list is done with 0 being the first index. \n",
    "* Each element in the list has its definite place in the list, which allows duplicating of elements in the list, with each element having its own distinct place and credibility."
   ]
  },
  {
   "cell_type": "code",
   "execution_count": null,
   "metadata": {
    "colab": {
     "autoexec": {
      "startup": false,
      "wait_interval": 0
     }
    },
    "colab_type": "code",
    "id": "HxYlFRzqmAXV",
    "outputId": "7db7d2fd-b07a-440e-be55-a90fd584eddc"
   },
   "outputs": [],
   "source": [
    "xs = [3, 1, 2]   # Create a list\n",
    "print(xs)\n",
    "print(xs[2])\n",
    "print(xs[-1], xs[-2], xs[-3])     # Negative indices count from the end of the list; prints \"2\""
   ]
  },
  {
   "cell_type": "code",
   "execution_count": null,
   "metadata": {},
   "outputs": [],
   "source": [
    "xs = 3,1,2\n",
    "xs"
   ]
  },
  {
   "cell_type": "code",
   "execution_count": null,
   "metadata": {},
   "outputs": [],
   "source": [
    "List = [['State', 'Street'] , ['employees']]  # Creating a Multi-Dimensional List # (By Nesting a list inside a List) \n",
    "print(List)"
   ]
  },
  {
   "cell_type": "code",
   "execution_count": null,
   "metadata": {},
   "outputs": [],
   "source": [
    "List = [1, 2, 4, 4, 3, 3, 3, 6, 5] # Creating a List with the use of Numbers (Having duplicate values) \n",
    "print(List) \n",
    "\n",
    "\n",
    "List = [1, 2, 'State', 4, 'Street', 6, 'Employees', 5.25] # Creating a List with mixed type of values(Having numbers and strings) \n",
    "print(List) "
   ]
  },
  {
   "cell_type": "code",
   "execution_count": null,
   "metadata": {
    "colab": {
     "autoexec": {
      "startup": false,
      "wait_interval": 0
     }
    },
    "colab_type": "code",
    "id": "6hLw_lxOmAXb",
    "outputId": "01508aaf-97d3-4421-a51c-83f6c9cfdf3b"
   },
   "outputs": [],
   "source": [
    "xs[2] = 'foo'    # Lists can contain elements of different types\n",
    "xs"
   ]
  },
  {
   "cell_type": "code",
   "execution_count": null,
   "metadata": {},
   "outputs": [],
   "source": [
    "xs"
   ]
  },
  {
   "cell_type": "code",
   "execution_count": null,
   "metadata": {
    "colab": {
     "autoexec": {
      "startup": false,
      "wait_interval": 0
     }
    },
    "colab_type": "code",
    "id": "B1DkJx2MmAXe",
    "outputId": "0c57251e-a3bf-478e-8e3f-d63e797992eb"
   },
   "outputs": [],
   "source": [
    "xs.append('new') # Add a new element to the end of the list (Extend as well)\n",
    "xs"
   ]
  },
  {
   "cell_type": "code",
   "execution_count": null,
   "metadata": {
    "colab": {
     "autoexec": {
      "startup": false,
      "wait_interval": 0
     }
    },
    "colab_type": "code",
    "id": "Yx7IMEVZmAXi",
    "outputId": "1221fe36-c53e-4875-f95d-5808d3383c9e",
    "scrolled": true
   },
   "outputs": [],
   "source": [
    "x = xs.pop(2)     # Remove and return the last element of the list\n",
    "print(x)\n",
    "print(xs)"
   ]
  },
  {
   "cell_type": "code",
   "execution_count": null,
   "metadata": {},
   "outputs": [],
   "source": [
    "xs"
   ]
  },
  {
   "cell_type": "code",
   "execution_count": null,
   "metadata": {},
   "outputs": [],
   "source": [
    "xs.insert(2,['new_2',12,'abc'])\n",
    "xs"
   ]
  },
  {
   "cell_type": "code",
   "execution_count": null,
   "metadata": {},
   "outputs": [],
   "source": [
    "List = [1, 2, 3, 4, 5, 6, 7, 8, 9, 10, 11, 12]  # Creating a List \n",
    "print(\"Intial List: \") \n",
    "print(List) \n",
    "\n",
    "List.remove(12) # Removing elements from List using Remove() method \n",
    "List.remove(6)\n",
    "print(List) "
   ]
  },
  {
   "cell_type": "code",
   "execution_count": null,
   "metadata": {},
   "outputs": [],
   "source": [
    "list1 = [1, 2, 3, 4, 1, 1, 1, 4, 5] \n",
    "  \n",
    "print(list1.index(4)) # Will print the index of '4' in list1 \n",
    "  \n",
    "list2 = ['cat', 'bat', 'mat', 'cat', 'pet'] \n",
    "\n",
    "print(list2.index('cat'))  # Will print the index of 'cat' in list2 "
   ]
  },
  {
   "cell_type": "code",
   "execution_count": null,
   "metadata": {},
   "outputs": [],
   "source": [
    "lis2 = list1.copy() #to copy a list\n",
    "list1.sort() #to sort in ascending order\n",
    "list1.reverse() # to reverse the list \n",
    "del list1[2 : 5] # to delete elements from pos. 2 to 5\n",
    "list1.clear() # Clears all the elements in the list"
   ]
  },
  {
   "cell_type": "code",
   "execution_count": null,
   "metadata": {},
   "outputs": [],
   "source": [
    "a = list1.clear()\n",
    "list1"
   ]
  },
  {
   "cell_type": "markdown",
   "metadata": {
    "colab_type": "text",
    "id": "vi9N4z7FmAXl"
   },
   "source": [
    "#### ACTIVITY:\n",
    "Create a list 'myList' with the following elements in it: 'a', [1, 2, 3] and 'abc' to it. \n",
    "\n",
    "Add another element 'batch' to it. Extract out [1,2,3] from it. "
   ]
  },
  {
   "cell_type": "markdown",
   "metadata": {
    "colab_type": "text",
    "id": "8mHEbinBmAXm"
   },
   "source": [
    "##### Slicing\n",
    "In addition to accessing list elements one at a time, Python provides concise syntax to access sublists; this is known as slicing:"
   ]
  },
  {
   "cell_type": "code",
   "execution_count": null,
   "metadata": {
    "colab": {
     "autoexec": {
      "startup": false,
      "wait_interval": 0
     }
    },
    "colab_type": "code",
    "id": "Lck6uqpUmAXn",
    "outputId": "da7e7dd6-c85f-46d3-ac97-fd2855ffbd80"
   },
   "outputs": [],
   "source": [
    "str_list = [\"a\",\"b\",\"c\",\"d\",\"e\",\"f\"]\n",
    "print(str_list)"
   ]
  },
  {
   "cell_type": "code",
   "execution_count": null,
   "metadata": {
    "colab": {
     "autoexec": {
      "startup": false,
      "wait_interval": 0
     }
    },
    "colab_type": "code",
    "id": "jXFOYtuhmAXs",
    "outputId": "ffc8a3ee-35aa-419d-b546-a63b942e09df"
   },
   "outputs": [],
   "source": [
    "print(str_list[1])\n",
    "print(str_list[-1])"
   ]
  },
  {
   "cell_type": "code",
   "execution_count": null,
   "metadata": {
    "colab": {
     "autoexec": {
      "startup": false,
      "wait_interval": 0
     }
    },
    "colab_type": "code",
    "id": "xEgoGm2rmAXv",
    "outputId": "ce3f4169-2964-463b-8221-fefeb3903015"
   },
   "outputs": [],
   "source": [
    "print(str_list[2:4])    # Get a slice from index 2 to 4 (exclusive)\n",
    "print(str_list[2:])     # Get a slice from index 2 to the end\n",
    "print(str_list[:2])     # Get a slice from the start to index 2 (exclusive)\n",
    "print(str_list[:])      # Get a slice of the whole list\n",
    "print(str_list[:-1])    # Slice indices can be negative"
   ]
  },
  {
   "cell_type": "markdown",
   "metadata": {
    "colab_type": "text",
    "id": "gzUsCkQSmAX1"
   },
   "source": [
    "#### ACTIVITY:\n",
    "Create a list 'mySecondList' with the following elements in it: 'a', 'b', 23, True.\n",
    "\n",
    "Extract out the last element using reverse indexing. Change the element at index 1 to 'bat'. Print out the modified list"
   ]
  },
  {
   "cell_type": "markdown",
   "metadata": {
    "colab": {
     "autoexec": {
      "startup": false,
      "wait_interval": 0
     }
    },
    "colab_type": "code",
    "id": "uwxJmUT9mAX1"
   },
   "source": [
    "## if Statements \n",
    "\n",
    "* if statement is the most simple decision making statement. \n",
    "* It is used to decide whether a certain statement or block of statements will be executed or not i.e \n",
    "if a certain condition is true then a block of statement is executed otherwise not.\n",
    "\n",
    "<img src = https://media.geeksforgeeks.org/wp-content/uploads/if-statement.jpg width = 200>"
   ]
  },
  {
   "cell_type": "markdown",
   "metadata": {},
   "source": [
    "## if- else\n",
    "\n",
    "* The if statement alone tells us that if a condition is true it will execute a block of statements and if the condition is false it won’t. But what if we want to do something else if the condition is false. Here comes the else statement. \n",
    "* We can use the else statement with if statement to execute a block of code when the condition is false\n",
    "\n",
    "<img src = https://media.geeksforgeeks.org/wp-content/uploads/if-else.jpg width = 200>"
   ]
  },
  {
   "cell_type": "markdown",
   "metadata": {},
   "source": [
    "## Nested If \n",
    "* A nested if is an if statement that is the target of another if statement. \n",
    "* Nested if statements means an if statement inside another if statement. \n",
    "* Yes, Python allows us to nest if statements within if statements. i.e, \n",
    "we can place an if statement inside another if statement.\n",
    "\n",
    "<img src = https://media.geeksforgeeks.org/wp-content/uploads/nested-if.jpg width = 400>"
   ]
  },
  {
   "cell_type": "markdown",
   "metadata": {},
   "source": [
    "## if-elif-else ladder\n",
    "\n",
    "* Here, a user can decide among multiple options. The if statements are executed from the top down.\n",
    "* As soon as one of the conditions controlling the if is true, the statement associated with that if is executed, and\n",
    "the rest of the ladder is bypassed. \n",
    "* If none of the conditions is true, then the final else statement will be executed.\n",
    "\n",
    "<img src = https://media.geeksforgeeks.org/wp-content/uploads/if-elseif-ladder.jpg width = 400>"
   ]
  },
  {
   "cell_type": "code",
   "execution_count": null,
   "metadata": {
    "colab": {
     "autoexec": {
      "startup": false,
      "wait_interval": 0
     }
    },
    "colab_type": "code",
    "id": "Y7_ES_JrmAX4",
    "outputId": "59500ab2-6093-4a8d-c3c4-6b3ece8e6032",
    "scrolled": true
   },
   "outputs": [],
   "source": [
    "x = int(input(\"Please enter an integer: \"))\n",
    "x"
   ]
  },
  {
   "cell_type": "code",
   "execution_count": null,
   "metadata": {
    "colab": {
     "autoexec": {
      "startup": false,
      "wait_interval": 0
     }
    },
    "colab_type": "code",
    "id": "6tYm0-AimAX7",
    "outputId": "410be1f5-36bf-45d9-c08d-a52554071102"
   },
   "outputs": [],
   "source": [
    "if x < 0:\n",
    "    print('Negative value,  X is : {}'.format(5))\n",
    "elif x == 0:\n",
    "    print('Zero')\n",
    "elif x == 1:\n",
    "    print('Single')\n",
    "else:\n",
    "    print('more than 1')"
   ]
  },
  {
   "cell_type": "markdown",
   "metadata": {
    "colab_type": "text",
    "id": "ItdHNCXdmAX-"
   },
   "source": [
    "#### ACTIVITY:\n",
    "Read in an integer number using raw_input. Using if-else statement, check if the number is even or odd. \n",
    "\n",
    "If even, print out \"Number is even\". If odd, print out \"Number is odd\" (HINT: Use % operator). What if number is 0?"
   ]
  },
  {
   "cell_type": "code",
   "execution_count": null,
   "metadata": {
    "colab": {
     "autoexec": {
      "startup": false,
      "wait_interval": 0
     }
    },
    "colab_type": "code",
    "id": "4lOeysHRmAX_"
   },
   "outputs": [],
   "source": [
    "x = int(input(\"Please enter an integer: \"))\n",
    "\n",
    "if x == 0:\n",
    "    print('The Value Given is Zero, Kindly enter another Number')\n",
    "elif x %2 == 0:\n",
    "    print('The Number provided is Even')\n",
    "else:\n",
    "    print('The Number Given is Odd')"
   ]
  },
  {
   "cell_type": "markdown",
   "metadata": {
    "colab_type": "text",
    "id": "dvTjew37mAYB"
   },
   "source": [
    "#### Loops\n",
    "You can loop over the elements of a list like this:"
   ]
  },
  {
   "cell_type": "code",
   "execution_count": null,
   "metadata": {
    "colab": {
     "autoexec": {
      "startup": false,
      "wait_interval": 0
     }
    },
    "colab_type": "code",
    "id": "RSfK_22vmAYC",
    "outputId": "c45ab61b-e444-4aaf-df91-3d622ce0c221",
    "scrolled": true
   },
   "outputs": [],
   "source": [
    "animals = ['cat', 'dog', 'monkey']\n",
    "# animals\n",
    "for i in animals:\n",
    "    print(i)"
   ]
  },
  {
   "cell_type": "code",
   "execution_count": null,
   "metadata": {},
   "outputs": [],
   "source": [
    "x = [-10,-5,0,1,2,3,4,5]\n",
    "for i in x:\n",
    "    if i < 0:\n",
    "        i = 5\n",
    "        print('Negative value changed,  Current X is : {}'.format(i))\n",
    "    elif i == 0:\n",
    "        print('Zero')\n",
    "    elif i == 1:\n",
    "        print('Single')\n",
    "    else:\n",
    "        print('more than 1')\n",
    "print(x)"
   ]
  },
  {
   "cell_type": "markdown",
   "metadata": {
    "colab_type": "text",
    "id": "gj--TzromAYF"
   },
   "source": [
    "#### ACTIVITY:\n",
    "Using a for loop and range() function, print out all the odd numbers between 20-30."
   ]
  },
  {
   "cell_type": "code",
   "execution_count": null,
   "metadata": {
    "colab": {
     "autoexec": {
      "startup": false,
      "wait_interval": 0
     }
    },
    "colab_type": "code",
    "id": "e7iiBlUMmAYF"
   },
   "outputs": [],
   "source": [
    "for i in range(20,30):\n",
    "    if i %2 ==1:\n",
    "        print(i, end = ' ')"
   ]
  },
  {
   "cell_type": "code",
   "execution_count": null,
   "metadata": {},
   "outputs": [],
   "source": [
    "raw = input('Please enter a string: ')\n",
    "vowels = 'AEIOUaeiou'\n",
    "count = 0\n",
    "for i in raw:\n",
    "    if i in vowels:\n",
    "        count+=1\n",
    "print(count)"
   ]
  },
  {
   "cell_type": "markdown",
   "metadata": {
    "colab_type": "text",
    "id": "MCYLSvjNmAYH"
   },
   "source": [
    "#### ACTIVITY:\n",
    "Count the number of vowels in the string \"Hello Batch 32\""
   ]
  },
  {
   "cell_type": "markdown",
   "metadata": {
    "colab_type": "text",
    "id": "Q_NqL1VhmAYK"
   },
   "source": [
    "##  List comprehensions\n",
    "* When programming, frequently we want to transform one type of data into another. \n",
    "* As a simple example, consider the following code that computes square numbers:"
   ]
  },
  {
   "cell_type": "code",
   "execution_count": null,
   "metadata": {
    "colab": {
     "autoexec": {
      "startup": false,
      "wait_interval": 0
     }
    },
    "colab_type": "code",
    "id": "0tNuKBRfmAYL",
    "outputId": "183d2300-4184-4f16-d81f-c680197306ba"
   },
   "outputs": [],
   "source": [
    "nums = [0, 1, 2, 3, 4]\n",
    "squares = []\n",
    "for x in nums:\n",
    "    squares.append(x ** 2)\n",
    "print(squares)"
   ]
  },
  {
   "cell_type": "markdown",
   "metadata": {
    "colab_type": "text",
    "id": "9gVcLC-qmAYO"
   },
   "source": [
    "You can make this code simpler using a list comprehension:"
   ]
  },
  {
   "cell_type": "code",
   "execution_count": null,
   "metadata": {
    "colab": {
     "autoexec": {
      "startup": false,
      "wait_interval": 0
     }
    },
    "colab_type": "code",
    "id": "gutXKIgemAYP",
    "outputId": "7f462768-6ddb-4e14-d7a0-588c48bd2a6d"
   },
   "outputs": [],
   "source": [
    "nums = [0, 1, 2, 3, 4]\n",
    "squares = [x ** 2 for x in nums]\n",
    "squares"
   ]
  },
  {
   "cell_type": "markdown",
   "metadata": {
    "colab_type": "text",
    "id": "MiX82rpimAYR"
   },
   "source": [
    "List comprehensions can also contain conditions:"
   ]
  },
  {
   "cell_type": "code",
   "execution_count": null,
   "metadata": {
    "colab": {
     "autoexec": {
      "startup": false,
      "wait_interval": 0
     }
    },
    "colab_type": "code",
    "id": "UR-WDw5KmAYR",
    "outputId": "9e2dab4b-1185-44c1-90d4-4787011b0564"
   },
   "outputs": [],
   "source": [
    "nums = [0, 1, 2, 3, 4]\n",
    "even_squares = [x ** 2 for x in nums if x % 2 == 0]\n",
    "even_squares"
   ]
  },
  {
   "cell_type": "markdown",
   "metadata": {
    "colab_type": "text",
    "id": "hCk0wb0rmAYT"
   },
   "source": [
    "#### ACTIVITY: \n",
    "Create two variables: 'var1' with values 1-5 and 'var2' with values 10-20 in steps of 2 (i.e., 10,12,14,... etc). Using list comprehensions, print out result of (var1+var2) if (var1+var2) is a multiple of 3."
   ]
  },
  {
   "cell_type": "code",
   "execution_count": null,
   "metadata": {
    "colab": {
     "autoexec": {
      "startup": false,
      "wait_interval": 0
     }
    },
    "colab_type": "code",
    "id": "7nTBaXajmAYT"
   },
   "outputs": [],
   "source": [
    "var1 = [1, 2, 3, 4, 5]\n",
    "var2 = [10,12,14,16,18,20]\n",
    "var3 = var1 + var2\n",
    "var3"
   ]
  },
  {
   "cell_type": "code",
   "execution_count": null,
   "metadata": {},
   "outputs": [],
   "source": [
    "print(var3)\n",
    "output = [print(x) for x in var3 if x%3 ==0]\n",
    "output"
   ]
  },
  {
   "cell_type": "markdown",
   "metadata": {
    "colab_type": "text",
    "id": "zF7t_2GkmAYV"
   },
   "source": [
    "## Dictionaries\n",
    "\n",
    "* Dictionary in Python is an unordered collection of data values, used to store data values like a map, which unlike other Data \n",
    "\n",
    "* Types that hold only single value as an element Dictionary holds key:value pair. \n",
    "\n",
    "* Key value is provided in the dictionary to make it more optimized."
   ]
  },
  {
   "cell_type": "code",
   "execution_count": null,
   "metadata": {
    "colab": {
     "autoexec": {
      "startup": false,
      "wait_interval": 0
     }
    },
    "colab_type": "code",
    "id": "Ks5Har0DmAYV",
    "outputId": "99fd7d1a-ff0c-4e09-ebd1-1fb2eb08cbdd"
   },
   "outputs": [],
   "source": [
    "Dict = {}  # Creating an empty Dictionary \n",
    "print(\"Empty Dictionary: \") \n",
    "print(Dict) \n",
    "\n",
    "Dict = dict({1: 'State', 2: 'Street', 3:'Bellandur'}) # with dict() method \n",
    "print(Dict) \n",
    "\n",
    "Dict = dict([(1, 'State'), (2, 'Street')]) # with each item as a Pair  \n",
    "print(Dict) "
   ]
  },
  {
   "cell_type": "code",
   "execution_count": null,
   "metadata": {},
   "outputs": [],
   "source": [
    "d = {'cat': 'cute', 'dog': 'furry'}  # Create a new dictionary with some data\n",
    "# print(d['cat'])       # Get an entry from a dictionary; prints \"cute\"\n",
    "print('rat' in d)     # Check if a dictionary has a given key; prints \"True\""
   ]
  },
  {
   "cell_type": "code",
   "execution_count": null,
   "metadata": {
    "colab": {
     "autoexec": {
      "startup": false,
      "wait_interval": 0
     }
    },
    "colab_type": "code",
    "id": "7onTyGXlmAYX",
    "outputId": "b8d7d5f7-4138-4a48-de33-528ad1679daa"
   },
   "outputs": [],
   "source": [
    "d['fish'] = 'wet'    # Set an entry in a dictionary\n",
    "print(d['fish'])    "
   ]
  },
  {
   "cell_type": "code",
   "execution_count": null,
   "metadata": {
    "colab": {
     "autoexec": {
      "startup": false,
      "wait_interval": 0
     }
    },
    "colab_type": "code",
    "id": "nVo3UI79mAYc",
    "outputId": "a1aba035-3549-4c3d-8f70-56d4a9399c01"
   },
   "outputs": [],
   "source": [
    "print(d['monkey'])"
   ]
  },
  {
   "cell_type": "code",
   "execution_count": null,
   "metadata": {
    "colab": {
     "autoexec": {
      "startup": false,
      "wait_interval": 0
     }
    },
    "colab_type": "code",
    "id": "dduJZXyKmAYd",
    "outputId": "fe5c8a95-c799-4327-dc0f-3ba34a9016c6"
   },
   "outputs": [],
   "source": [
    "print(d.get('monkey', 'N/A'))  # Get an element with a default\n",
    "print(d.get('fish', 'N/A'))    # Get an element with a default"
   ]
  },
  {
   "cell_type": "code",
   "execution_count": null,
   "metadata": {
    "colab": {
     "autoexec": {
      "startup": false,
      "wait_interval": 0
     }
    },
    "colab_type": "code",
    "id": "TW4VWtC1mAYf",
    "outputId": "93b3d3d5-ef30-4abb-b842-85851d7e4f5b"
   },
   "outputs": [],
   "source": [
    "del d['fish']       # Remove an element from a dictionary\n",
    "print(d.get('fish', 'N/A')) # \"fish\" is no longer a key"
   ]
  },
  {
   "cell_type": "code",
   "execution_count": null,
   "metadata": {},
   "outputs": [],
   "source": [
    "# Creating a Nested Dictionary  \n",
    "Dict = {1: 'State', 2: 'For', 3:{'A' : 'Welcome', 'B' : 'To', 'C' : 'Bellandur'}} \n",
    "  \n",
    "print(Dict)"
   ]
  },
  {
   "cell_type": "code",
   "execution_count": null,
   "metadata": {},
   "outputs": [],
   "source": [
    "Dict = {}  # Creating an empty Dictionary \n",
    "print(\"Empty Dictionary: \") \n",
    "print(Dict) \n",
    "\n",
    "Dict[0] = 'State' # Adding elements one at a time \n",
    "Dict[2] = 'For'\n",
    "Dict[3] = 'Street'\n",
    "print(\"Dictionary after adding 3 elements: \") \n",
    "print(Dict)"
   ]
  },
  {
   "cell_type": "code",
   "execution_count": null,
   "metadata": {},
   "outputs": [],
   "source": [
    "Dict['Value_set'] = 2, 3, 4 # Adding set of values to a single Key \n",
    "print(\"Dictionary after adding 3 elements: \") \n",
    "print(Dict)"
   ]
  },
  {
   "cell_type": "code",
   "execution_count": null,
   "metadata": {},
   "outputs": [],
   "source": [
    "Dict[2] = 'Welcomes' # Updating existing Key's Value \n",
    "print(\"Updated key value: \") \n",
    "print(Dict) "
   ]
  },
  {
   "cell_type": "code",
   "execution_count": null,
   "metadata": {},
   "outputs": [],
   "source": [
    "Dict[5] = {'Nested' :{'1' : 'Life', '2' : 'at'}} # Adding Nested Key value to Dictionary\n",
    "print(\"Adding a Nested Key: \") \n",
    "print(Dict)"
   ]
  },
  {
   "cell_type": "code",
   "execution_count": null,
   "metadata": {},
   "outputs": [],
   "source": [
    "del Dict['A'][2] # Deleting a Key from Nested Dictionary\n",
    "print(\"\\nDeleting a key from Nested Dictionary: \") \n",
    "print(Dict) "
   ]
  },
  {
   "cell_type": "code",
   "execution_count": null,
   "metadata": {},
   "outputs": [],
   "source": [
    "Dict = {1: 'State', 'Street': 'For', 3: 'Employees'}  # Creating a Dictionary\n",
    "pop_ele = Dict.pop('1') # Deleting a key using pop() method \n",
    "pop_ele"
   ]
  },
  {
   "cell_type": "code",
   "execution_count": null,
   "metadata": {},
   "outputs": [],
   "source": [
    "pop_ele = Dict.popitem()  # Deleting an arbitrary key using popitem() function \n",
    "pop_ele"
   ]
  },
  {
   "cell_type": "code",
   "execution_count": null,
   "metadata": {},
   "outputs": [],
   "source": [
    "# Deleting entire Dictionary \n",
    "Dict.clear()\n",
    "print(Dict) "
   ]
  },
  {
   "cell_type": "markdown",
   "metadata": {
    "colab_type": "text",
    "id": "yhiN9vhMmAYi"
   },
   "source": [
    "It is easy to iterate over the keys in a dictionary:"
   ]
  },
  {
   "cell_type": "code",
   "execution_count": null,
   "metadata": {
    "colab": {
     "autoexec": {
      "startup": false,
      "wait_interval": 0
     }
    },
    "colab_type": "code",
    "id": "feIXTyfsmAYi",
    "outputId": "c95f695f-820a-419b-e3ef-6b29f132bf75",
    "scrolled": true
   },
   "outputs": [],
   "source": [
    "d = {'person': 2, 'cat': 4, 'spider': 8, 'spider': 10}\n",
    "for i in d:\n",
    "    legs = d[i]\n",
    "    print('A %s has %d legs' % (i, legs))"
   ]
  },
  {
   "cell_type": "markdown",
   "metadata": {
    "colab_type": "text",
    "id": "XofdJMZjmAYj"
   },
   "source": [
    "## Dictionary comprehensions: \n",
    "\n",
    "* These are similar to list comprehensions, but allow you to easily construct dictionaries."
   ]
  },
  {
   "cell_type": "code",
   "execution_count": null,
   "metadata": {
    "colab": {
     "autoexec": {
      "startup": false,
      "wait_interval": 0
     }
    },
    "colab_type": "code",
    "id": "YPgJz7NXmAYk",
    "outputId": "8c620d4d-897d-4901-a917-9c13caa9d197"
   },
   "outputs": [],
   "source": [
    "nums = [0, 1, 2, 3, 4]\n",
    "even_num_to_square = {x: x ** 2 for x in nums if x % 2 == 0}\n",
    "even_num_to_square"
   ]
  },
  {
   "cell_type": "markdown",
   "metadata": {
    "colab_type": "text",
    "id": "aQ3sBSWcmAYl"
   },
   "source": [
    "#### ACTIVITY:\n",
    "Create a dictionary 'myDict' with the following (key, value) pairs. ('Name', \"XYZ\"), ('Batch', 32), (\"Location\", \"Bangalore\").\n",
    "Iterate over the dictionary and print out the following (order doesn't matter):"
   ]
  },
  {
   "cell_type": "markdown",
   "metadata": {
    "colab_type": "text",
    "id": "iVzmzwEnmAYl"
   },
   "source": [
    "My Name is XYZ"
   ]
  },
  {
   "cell_type": "markdown",
   "metadata": {
    "colab_type": "text",
    "id": "2NVD76BkmAYm"
   },
   "source": [
    "My Batch is 32"
   ]
  },
  {
   "cell_type": "markdown",
   "metadata": {
    "colab_type": "text",
    "id": "je4sZ169mAYn"
   },
   "source": [
    "My Location is Bangalore"
   ]
  },
  {
   "cell_type": "markdown",
   "metadata": {
    "colab_type": "text",
    "id": "1J5C9LiFmAYp"
   },
   "source": [
    "## Tuples\n",
    "\n",
    "* A tuple is an (immutable) ordered list of values. \n",
    "\n",
    "* A tuple is in many ways similar to a list; one of the most important differences is that tuples can be used as keys in dictionaries, while lists cannot. Here is a trivial example:"
   ]
  },
  {
   "cell_type": "code",
   "execution_count": null,
   "metadata": {
    "colab": {
     "autoexec": {
      "startup": false,
      "wait_interval": 0
     }
    },
    "colab_type": "code",
    "id": "q-hm1UO7mAYp",
    "outputId": "1e6e5912-3eb5-436f-bda2-4b815c11695e"
   },
   "outputs": [],
   "source": [
    "# An empty tuple \n",
    "empty_tuple = () \n",
    "print (empty_tuple)"
   ]
  },
  {
   "cell_type": "code",
   "execution_count": null,
   "metadata": {},
   "outputs": [],
   "source": [
    "# Creating non-empty tuples \n",
    "  \n",
    "# One way of creation \n",
    "tup = 'python', 'State'\n",
    "print(tup) \n",
    "  \n",
    "# Another for doing the same \n",
    "tup = ('python', 'State') \n",
    "print(tup)\n",
    "\n",
    "t = (5, 6)       # Create a tuple\n",
    "print(type(t))"
   ]
  },
  {
   "cell_type": "code",
   "execution_count": null,
   "metadata": {},
   "outputs": [],
   "source": [
    "# Code for concatenating 2 tuples \n",
    "  \n",
    "tuple1 = (0, 1, 2, 3) \n",
    "tuple2 = ('python', 'State') \n",
    "  \n",
    "# Concatenating above two \n",
    "print(tuple1 + tuple2) "
   ]
  },
  {
   "cell_type": "code",
   "execution_count": null,
   "metadata": {},
   "outputs": [],
   "source": [
    "# Code for creating nested tuples \n",
    "  \n",
    "tuple1 = (0, 1, 2, 3) \n",
    "tuple2 = ('python', 'State') \n",
    "tuple3 = (tuple1, tuple2) \n",
    "print(tuple3) "
   ]
  },
  {
   "cell_type": "code",
   "execution_count": null,
   "metadata": {
    "colab": {
     "autoexec": {
      "startup": false,
      "wait_interval": 0
     }
    },
    "colab_type": "code",
    "id": "pe1lY-dcmAYv",
    "outputId": "863870e6-999f-4bef-f549-bd0aba491aa3"
   },
   "outputs": [],
   "source": [
    "t[0] = 1\n",
    "print [1:5]"
   ]
  },
  {
   "cell_type": "code",
   "execution_count": null,
   "metadata": {},
   "outputs": [],
   "source": [
    "# code to test slicing \n",
    "  \n",
    "tuple1 = (0 ,1, 2, 3) \n",
    "print(tuple1[1:]) \n",
    "print(tuple1[::-1]) \n",
    "print(tuple1[2:4]) "
   ]
  },
  {
   "cell_type": "code",
   "execution_count": null,
   "metadata": {},
   "outputs": [],
   "source": [
    "# Code for deleting a tuple \n",
    "  \n",
    "tuple3 = ( 0, 1) \n",
    "del tuple3 \n",
    "print(tuple3)"
   ]
  },
  {
   "cell_type": "code",
   "execution_count": null,
   "metadata": {},
   "outputs": [],
   "source": [
    "# Code for converting a list and a string into a tuple \n",
    "  \n",
    "list1 = [0, 1, 2] \n",
    "print(tuple(list1)) \n",
    "print(tuple('python')) # string 'python' "
   ]
  },
  {
   "cell_type": "code",
   "execution_count": null,
   "metadata": {},
   "outputs": [],
   "source": [
    "#python code for creating tuples in a loop \n",
    "  \n",
    "tup = ('State') \n",
    "for i in range(3): \n",
    "    tup = (tup)*2\n",
    "    print(tup)"
   ]
  },
  {
   "cell_type": "code",
   "execution_count": null,
   "metadata": {},
   "outputs": [],
   "source": []
  },
  {
   "cell_type": "markdown",
   "metadata": {
    "colab_type": "text",
    "id": "T-MbT7gFmAYx"
   },
   "source": [
    "#### ACTIVITY:\n",
    "Create a tuple named 'myTup' with the following elements: 1, 2, 'abc'. Print this tuple. Access the first two elements of the tuple. Can you add another element 'xyz' to myTup? What should we do if we want to get (1, 2, 'abc', 'xyz') usin gthe existing tuple?"
   ]
  },
  {
   "cell_type": "code",
   "execution_count": null,
   "metadata": {
    "colab": {
     "autoexec": {
      "startup": false,
      "wait_interval": 0
     }
    },
    "colab_type": "code",
    "id": "eZYHGLLfmAYx"
   },
   "outputs": [],
   "source": []
  },
  {
   "cell_type": "markdown",
   "metadata": {
    "colab_type": "text",
    "id": "SwADWnFgmAYy"
   },
   "source": [
    "## Functions\n",
    "\n",
    "* Python functions are defined using the `def` keyword. For example:\n",
    "\n",
    "* A function is a set of statements that take inputs, do some specific computation and produces output. \n",
    "\n",
    "* The idea is to put some commonly or repeatedly done task together and make a function, so that instead of writing the same code again and again for different inputs, we can call the function.\n",
    "\n",
    "* Python provides built-in functions like print(), etc. but we can also create your own functions. These functions are called user-defined functions."
   ]
  },
  {
   "cell_type": "code",
   "execution_count": null,
   "metadata": {
    "colab": {
     "autoexec": {
      "startup": false,
      "wait_interval": 0
     }
    },
    "colab_type": "code",
    "id": "-LZLE-F_mAYz",
    "outputId": "0fb9fbf6-ffb3-4fa3-ba84-44a2442bd625"
   },
   "outputs": [],
   "source": [
    "def sign(x):\n",
    "    if x > 0:\n",
    "        return 'positive'\n",
    "    elif x < 0:\n",
    "        return 'negative'\n",
    "    else:\n",
    "        return 'zero'\n",
    "\n",
    "for x in [-1, 0, 1]:\n",
    "    print sign(x)"
   ]
  },
  {
   "cell_type": "markdown",
   "metadata": {
    "colab_type": "text",
    "id": "v0eqOanymAY0"
   },
   "source": [
    "We will often define functions to take optional keyword arguments, like this:"
   ]
  },
  {
   "cell_type": "code",
   "execution_count": null,
   "metadata": {
    "colab": {
     "autoexec": {
      "startup": false,
      "wait_interval": 0
     }
    },
    "colab_type": "code",
    "id": "V7fxtplJmAY1",
    "outputId": "909f8c05-4dba-4a5f-fbc2-ac5c077e410e"
   },
   "outputs": [],
   "source": [
    "def hello(name, loud=False):\n",
    "    if loud:\n",
    "        print ('HELLO, %s' % name.upper())\n",
    "    else:\n",
    "        print ('Hello, %s!' % name)\n",
    "\n",
    "hello('Bob', loud = True)\n",
    "hello('Fred')"
   ]
  },
  {
   "cell_type": "markdown",
   "metadata": {
    "colab_type": "text",
    "id": "_7N11WZymAY2"
   },
   "source": [
    "#### ACTIVITY:\n",
    "Define a function which would take a number 'n' as input and compute the sum of natural numbers till n.\n",
    "Example if input number is 5, the function returns the result: 1+2+3+4+5"
   ]
  },
  {
   "cell_type": "markdown",
   "metadata": {
    "colab_type": "text",
    "id": "-sYiC88hmAY4"
   },
   "source": [
    "HINT: You can use the shortcut formula n(n+1)/2.\n",
    "So for n = 5, result = 5*6/2 = 15"
   ]
  },
  {
   "cell_type": "code",
   "execution_count": null,
   "metadata": {
    "colab": {
     "autoexec": {
      "startup": false,
      "wait_interval": 0
     }
    },
    "colab_type": "code",
    "id": "y2V1xhfimAY4"
   },
   "outputs": [],
   "source": []
  },
  {
   "cell_type": "markdown",
   "metadata": {
    "colab_type": "text",
    "id": "VBAOhE80mAY5"
   },
   "source": [
    "#### ACTIVITY:\n",
    "Write a function 'F' which would take in two numbers. Based on user choice 1 == add the numbers or 2 == multiply the two numbers, perform the operation and return the appropriate results"
   ]
  },
  {
   "cell_type": "code",
   "execution_count": null,
   "metadata": {},
   "outputs": [],
   "source": []
  },
  {
   "cell_type": "markdown",
   "metadata": {},
   "source": [
    "### Python Operators\n",
    "Python language supports the following types of operators.\n",
    "\n",
    "* Arithmetic Operators\n",
    "* Comparison / Relational Operators\n",
    "* Assignment Operators\n",
    "* Logical Operators\n",
    "* Bitwise Operators\n",
    "* Membership Operators\n",
    "* Identity Operators"
   ]
  },
  {
   "cell_type": "code",
   "execution_count": null,
   "metadata": {},
   "outputs": [],
   "source": [
    "# Arithmetic Operators\n",
    "a = 2\n",
    "b = 3\n",
    "c = 0\n",
    "\n",
    "c = a + b \n",
    "print(\"Addition - Value of c is \", c)\n",
    "\n",
    "c = a - b\n",
    "print(\"Substraction - Value of c is \", c)\n",
    "\n",
    "c = a * b\n",
    "print(\"Multiplication - Value of c is \", c)\n",
    "\n",
    "c = a / b\n",
    "print(\"Division - Value of c is \", c)\n",
    "\n",
    "c = a//b \n",
    "print(\"Floor Division - Value of c is \", c)\n",
    "\n",
    "c = a % b\n",
    "print(\"Modulus / Remainder - Value of c is \", c)\n",
    "\n",
    "c = a**b \n",
    "print(\"Exponent / Power - Value of c is \", c)"
   ]
  },
  {
   "cell_type": "code",
   "execution_count": null,
   "metadata": {},
   "outputs": [],
   "source": [
    "# Comparison / Relational Operators\n",
    "a = 10\n",
    "b = 10\n",
    "c = 0\n",
    "\n",
    "if ( a == b ):\n",
    "   print(\"Line 1 - a is equal to b\")\n",
    "else:\n",
    "   print(\"Line 1 - a is not equal to b\")\n",
    "\n",
    "if ( a != b ):\n",
    "   print(\"Line 2 - a is not equal to b\")\n",
    "else:\n",
    "   print(\"Line 2 - a is equal to b\")\n",
    "\n",
    "if ( a < b ):\n",
    "   print(\"Line 3 - a is less than b\") \n",
    "else:\n",
    "   print(\"Line 3 - a is not less than b\")\n",
    "\n",
    "if ( a > b ):\n",
    "   print(\"Line 4 - a is greater than b\")\n",
    "else:\n",
    "   print(\"Line 4 - a is not greater than b\")"
   ]
  },
  {
   "cell_type": "code",
   "execution_count": null,
   "metadata": {},
   "outputs": [],
   "source": [
    "a = 5;\n",
    "b = 20;\n",
    "if ( a <= b ):\n",
    "   print(\"Line 5 - a is either less than or equal to  b\")\n",
    "else:\n",
    "   print(\"Line 5 - a is neither less than nor equal to  b\")\n",
    "\n",
    "if ( b >= a ):\n",
    "   print(\"Line 6 - b is either greater than  or equal to b\")\n",
    "else:\n",
    "   print(\"Line 6 - b is neither greater than  nor equal to b\")"
   ]
  },
  {
   "cell_type": "code",
   "execution_count": null,
   "metadata": {},
   "outputs": [],
   "source": [
    "# Assignment Operators\n",
    "a = 2\n",
    "b = 3\n",
    "c = 0\n",
    "\n",
    "c = a + b\n",
    "print(\"Line 1 - Value of c is \", c)\n",
    "\n",
    "c += a\n",
    "print(\"Line 2 - Value of c is \", c) \n",
    "\n",
    "c *= a\n",
    "print(\"Line 3 - Value of c is \", c) \n",
    "\n",
    "c /= a \n",
    "print(\"Line 4 - Value of c is \", c) \n",
    "\n",
    "c //= a\n",
    "print(\"Line 5 - Value of c is \", c)\n",
    "\n",
    "c %= a\n",
    "print(\"Line 6 - Value of c is \", c)\n",
    "\n",
    "c **= a\n",
    "print(\"Line 7 - Value of c is \", c)"
   ]
  },
  {
   "cell_type": "code",
   "execution_count": null,
   "metadata": {},
   "outputs": [],
   "source": [
    "# Logical Operators\n",
    "x = True\n",
    "y = False\n",
    "\n",
    "print('x and y is',x and y)\n",
    "print('x or y is',x or y)\n",
    "print('not x is',not x)"
   ]
  },
  {
   "cell_type": "code",
   "execution_count": null,
   "metadata": {},
   "outputs": [],
   "source": [
    "# Bitwise Operators\n",
    "a = 60            # 60 = 0011 1100 \n",
    "b = 13            # 13 = 0000 1101 \n",
    "c = 0\n",
    "\n",
    "c = a & b;        # 12 = 0000 1100 #both should be 1\n",
    "print(\"Line 1 - Value of c is \", c)\n",
    "\n",
    "c = a | b;        # 61 = 0011 1101 #either should be 1\n",
    "print(\"Line 2 - Value of c is \", c)\n",
    "\n",
    "c = a ^ b;        # 49 = 0011 0001 #both should be different\n",
    "print(\"Line 3 - Value of c is \", c)"
   ]
  },
  {
   "cell_type": "code",
   "execution_count": null,
   "metadata": {},
   "outputs": [],
   "source": [
    "# Membership Operators\n",
    "# in \t Evaluates to true if it finds a variable in the specified sequence and false otherwise.\n",
    "# not in \t Evaluates to true if it does not finds a variable in the specified sequence and false otherwise.\n",
    "\n",
    "a = 1\n",
    "b = 20\n",
    "list = [1, 2, 3, 4, 5 ]\n",
    "\n",
    "if ( a in list ):\n",
    "   print(\"Line 1 - a is available in the given list\")\n",
    "else:\n",
    "   print(\"Line 1 - a is not available in the given list\")"
   ]
  },
  {
   "cell_type": "code",
   "execution_count": null,
   "metadata": {},
   "outputs": [],
   "source": [
    "a = 10\n",
    "if ( a in list ):\n",
    "   print(\"Line 2 - a is available in the given list\")\n",
    "else:\n",
    "   print(\"Line 2 - a is not available in the given list\")\n",
    "\n",
    "if (b not in list):\n",
    "   print(\"Line 3 - b is not available in the given list\")\n",
    "else:\n",
    "   print(\"Line 3 - b is available in the given list\")"
   ]
  },
  {
   "cell_type": "code",
   "execution_count": null,
   "metadata": {},
   "outputs": [],
   "source": [
    "# Identity Operators\n",
    "# is \t Evaluates to true if the variables on either side of the operator point to the same object and false otherwise.\n",
    "# is not \t Evaluates to false if the variables on either side of the operator point to the same object and true otherwise.\n",
    "\n",
    "a = 20\n",
    "b = 30\n",
    "\n",
    "#print(a is b)\n",
    "print(a is not b)"
   ]
  },
  {
   "cell_type": "code",
   "execution_count": null,
   "metadata": {},
   "outputs": [],
   "source": [
    "# String Traversal\n",
    "# Range function in loops\n",
    "\n",
    "string_to_iterate = \"Python\"\n",
    "\n",
    "for char in string_to_iterate:\n",
    "   print(char)\n",
    "\n",
    "# Printing index\n",
    "for char_index in range(len(string_to_iterate)):\n",
    "   print(char_index)\n",
    "\n",
    "c = 'Programming Language'\n",
    "string_to_iterate = 'Python'\n",
    "# Printing the exact values \n",
    "for char_index in range(len(string_to_iterate)):\n",
    "   print(c[char_index])"
   ]
  }
 ],
 "metadata": {
  "colab": {
   "default_view": {},
   "name": "Python_basics.ipynb",
   "provenance": [],
   "version": "0.3.2",
   "views": {}
  },
  "kernelspec": {
   "display_name": "Python 3",
   "language": "python",
   "name": "python3"
  },
  "language_info": {
   "codemirror_mode": {
    "name": "ipython",
    "version": 3
   },
   "file_extension": ".py",
   "mimetype": "text/x-python",
   "name": "python",
   "nbconvert_exporter": "python",
   "pygments_lexer": "ipython3",
   "version": "3.7.4"
  }
 },
 "nbformat": 4,
 "nbformat_minor": 1
}
