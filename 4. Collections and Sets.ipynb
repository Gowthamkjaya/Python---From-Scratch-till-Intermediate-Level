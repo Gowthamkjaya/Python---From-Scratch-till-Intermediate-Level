{
 "cells": [
  {
   "cell_type": "markdown",
   "metadata": {},
   "source": [
    "## namedtuple( )\n",
    "* It returns a tuple with a named entry, which means there will be a name assigned to each value in the tuple. \n",
    "* It overcomes the problem of accessing the elements using the index values. With namedtuple( )"
   ]
  },
  {
   "cell_type": "code",
   "execution_count": null,
   "metadata": {},
   "outputs": [],
   "source": [
    "from collections import namedtuple"
   ]
  },
  {
   "cell_type": "code",
   "execution_count": null,
   "metadata": {},
   "outputs": [],
   "source": [
    "a = 'Gowtham', 'State Street'\n",
    "print(type(a))\n",
    "print(a)"
   ]
  },
  {
   "cell_type": "code",
   "execution_count": null,
   "metadata": {},
   "outputs": [],
   "source": [
    "a = namedtuple('courses' , 'name, tech, year')\n",
    "s = a('data science' , 'python', 2020)\n",
    "print(s)"
   ]
  },
  {
   "cell_type": "code",
   "execution_count": null,
   "metadata": {},
   "outputs": [],
   "source": [
    "# How To Create A namedtuple Using A List?\n",
    "s._make(['data science' , 'python',2020])"
   ]
  },
  {
   "cell_type": "code",
   "execution_count": null,
   "metadata": {},
   "outputs": [],
   "source": [
    "# Accessing the values\n",
    "Student = namedtuple('Student', 'fname, lname, age')\n",
    "s1 = Student('John', 'Clarke', '13')\n",
    "print(s1.fname)\n",
    "print(s1.lname)\n",
    "print(s1.age)"
   ]
  },
  {
   "cell_type": "code",
   "execution_count": null,
   "metadata": {},
   "outputs": [],
   "source": [
    "# With List\n",
    "s2 = Student._make(['Adam','joe','18'])\n",
    "print(s2)"
   ]
  },
  {
   "cell_type": "code",
   "execution_count": null,
   "metadata": {},
   "outputs": [],
   "source": [
    "# Create a New Instance Using Existing Instance\n",
    "\n",
    "s2 = s1._asdict()\n",
    "print(s2)"
   ]
  },
  {
   "cell_type": "code",
   "execution_count": null,
   "metadata": {},
   "outputs": [],
   "source": [
    "# Changing Field Values with _replace() Function\n",
    "\n",
    "s2 = s1._replace(age='14')\n",
    "print(s1)\n",
    "print(s2)"
   ]
  },
  {
   "cell_type": "markdown",
   "metadata": {},
   "source": [
    "## deque\n",
    "* deque pronounced as ‘deck’ is an optimized list to perform insertion and deletion easily."
   ]
  },
  {
   "cell_type": "code",
   "execution_count": null,
   "metadata": {},
   "outputs": [],
   "source": [
    "#creating a deque\n",
    "from collections import deque\n",
    " \n",
    "a = ['S' , 'T' , 'A' , 'T' , 'E']\n",
    "a1 = deque(a)\n",
    "print(a1)"
   ]
  },
  {
   "cell_type": "code",
   "execution_count": null,
   "metadata": {},
   "outputs": [],
   "source": [
    "a = [\"a\",\"b\",\"c\"]\n",
    "deq = deque(a)\n",
    "print(deq)"
   ]
  },
  {
   "cell_type": "code",
   "execution_count": null,
   "metadata": {},
   "outputs": [],
   "source": [
    "b = [\"a\",'a',\"b\",\"c\",'a', 'b']\n",
    "deq = deque(b)\n",
    "print(deq.count(\"a\"))"
   ]
  },
  {
   "cell_type": "code",
   "execution_count": null,
   "metadata": {},
   "outputs": [],
   "source": [
    "# Now lets take a look at how we will insert and remove items from deque.\n",
    "\n",
    "a1.append('a')\n",
    "print(a1)\n",
    "\n",
    "a1.appendleft('e')\n",
    "print(a1)\n"
   ]
  },
  {
   "cell_type": "code",
   "execution_count": null,
   "metadata": {},
   "outputs": [],
   "source": [
    "# inserting a component is enhanced utilizing deque, also you can remove components as well\n",
    "\n",
    "a1.pop()\n",
    "print(a1)\n",
    "\n",
    "\n",
    "a1.popleft()\n",
    "print(a1)"
   ]
  },
  {
   "cell_type": "markdown",
   "metadata": {},
   "source": [
    "## ChainMap\n",
    "* It is a dictionary like class which is able to make a single view of multiple mappings. \n",
    "* It basically returns a list of several other dictionaries. Suppose you have two dictionaries with several key value pairs, \n",
    "* in this case ChainMap will make a single list with both the dictionaries in it."
   ]
  },
  {
   "cell_type": "code",
   "execution_count": null,
   "metadata": {},
   "outputs": [],
   "source": [
    "from collections import ChainMap\n",
    "a = {1: 'Programming' , 2: 'python'}\n",
    "b = {3: 'data science', 4: 'Machine learning'}\n",
    "c = ChainMap(a,b)\n",
    "print(c)"
   ]
  },
  {
   "cell_type": "code",
   "execution_count": null,
   "metadata": {
    "scrolled": true
   },
   "outputs": [],
   "source": [
    "dict1 = { 'a' : 1, 'b' : 2 }\n",
    "dict2 = { 'c' : 3, 'b' : 4 }\n",
    "chain_map = ChainMap(dict1, dict2)\n",
    "print(chain_map.maps)"
   ]
  },
  {
   "cell_type": "code",
   "execution_count": null,
   "metadata": {},
   "outputs": [],
   "source": [
    "print(chain_map['a'])"
   ]
  },
  {
   "cell_type": "code",
   "execution_count": null,
   "metadata": {},
   "outputs": [],
   "source": [
    "dict2['c'] = 5\n",
    "print(chain_map.maps)"
   ]
  },
  {
   "cell_type": "code",
   "execution_count": null,
   "metadata": {},
   "outputs": [],
   "source": [
    "import collections\n",
    "\n",
    "# initializing dictionaries \n",
    "dic1 = { 'a' : 1, 'b' : 2 } \n",
    "dic2 = { 'b' : 3, 'c' : 4 } \n",
    "  \n",
    "# initializing ChainMap \n",
    "chain = collections.ChainMap(dic1, dic2) \n",
    "  \n",
    "# printing chainMap using maps \n",
    "print (\"All the ChainMap contents are : \") \n",
    "print (chain.maps) \n",
    "\n",
    "dic3 = { 'f' : 5 } \n",
    "\n",
    "# using new_child() to add new dictionary \n",
    "chain1 = chain.new_child(dic3) \n",
    "\n",
    "# printing chainMap using map \n",
    "print (\"Displaying new ChainMap : \") \n",
    "print (chain1.maps)"
   ]
  },
  {
   "cell_type": "code",
   "execution_count": null,
   "metadata": {},
   "outputs": [],
   "source": [
    "dict3 = {'e' : 5, 'f' : 6}#Adding a New Dictionary to ChainMap\n",
    "new_chain_map = chain_map.new_child(dict3)\n",
    "print(new_chain_map)"
   ]
  },
  {
   "cell_type": "markdown",
   "metadata": {},
   "source": [
    "* To access or insert elements we use the keys as index. \n",
    "* But to add a new dictionary in the ChainMap we use the following approach."
   ]
  },
  {
   "cell_type": "code",
   "execution_count": null,
   "metadata": {},
   "outputs": [],
   "source": [
    "a1 = { 5: 'AI' , 6: 'neural networks'}\n",
    "c1 = c.new_child(a1)\n",
    "print(c1)"
   ]
  },
  {
   "cell_type": "markdown",
   "metadata": {},
   "source": [
    "## Counter\n",
    "* It is a dictionary subclass which is used to count objects."
   ]
  },
  {
   "cell_type": "code",
   "execution_count": null,
   "metadata": {},
   "outputs": [],
   "source": [
    "from collections import Counter"
   ]
  },
  {
   "cell_type": "code",
   "execution_count": null,
   "metadata": {},
   "outputs": [],
   "source": [
    "a = [1,1,1,1,2,3,3,4,3,3,4]\n",
    "c = Counter(a)\n",
    "print(c)"
   ]
  },
  {
   "cell_type": "code",
   "execution_count": null,
   "metadata": {},
   "outputs": [],
   "source": [
    "a = [1,2,3,4,1,2,6,7,3,8,1]\n",
    "Counter(a)"
   ]
  },
  {
   "cell_type": "code",
   "execution_count": null,
   "metadata": {},
   "outputs": [],
   "source": [
    "Counter({1:3,2:4}) #the Counter() function can take a dictionary as an argument. \n",
    "# In this dictionary, the value of a key should be the 'count' of that key."
   ]
  },
  {
   "cell_type": "code",
   "execution_count": null,
   "metadata": {},
   "outputs": [],
   "source": [
    "list = [1,2,3,4,1,2,6,7,3,8,1]\n",
    "cnt = Counter(list)\n",
    "print(cnt[1])"
   ]
  },
  {
   "cell_type": "markdown",
   "metadata": {},
   "source": [
    "#### Apart from that, Counter has three additional functions:\n",
    "\n",
    "* Elements\n",
    "* Most_common([n])\n",
    "* Subtract([interable-or-mapping])"
   ]
  },
  {
   "cell_type": "code",
   "execution_count": null,
   "metadata": {},
   "outputs": [],
   "source": [
    "# The element() Function - returns an iterator object for the values in the Counter.\n",
    "\n",
    "x = Counter(\"State Street\") \n",
    "  \n",
    "# printing the elements of counter object \n",
    "for i in x.elements(): \n",
    "    print( i, end = \" \")"
   ]
  },
  {
   "cell_type": "code",
   "execution_count": null,
   "metadata": {},
   "outputs": [],
   "source": [
    "# Example - 2 \n",
    "b = Counter({'State' : 4, 'Street' : 1,  \n",
    "            'Bellandur' : 2, 'python' : 3}) \n",
    "  \n",
    "for i in b.elements(): \n",
    "    print ( i, end = \" \") \n",
    "print() \n",
    "  \n",
    "# Example - 3 \n",
    "c = Counter([1, 2, 21, 12, 2, 44, 5, 13, 15, 5, 19, 21, 5]) \n",
    "  \n",
    "for i in c.elements(): \n",
    "    print ( i, end = \" \") \n",
    "print()               \n",
    "                \n",
    "# Example - 4 \n",
    "d = Counter( a = 2, b = 3, c = 6, d = 1, e = 5) \n",
    "  \n",
    "for i in d.elements(): \n",
    "    print ( i, end = \" \") "
   ]
  },
  {
   "cell_type": "code",
   "execution_count": null,
   "metadata": {},
   "outputs": [],
   "source": [
    "# The most_common() Function\n",
    "\n",
    "list = [1,2,3,4,1,2,6,7,3,8,1]\n",
    "cnt = Counter(list)\n",
    "print(cnt.most_common())"
   ]
  },
  {
   "cell_type": "code",
   "execution_count": null,
   "metadata": {},
   "outputs": [],
   "source": [
    "coun = Counter(a=1, b=2, c=3, d=120, e=1, f=219) \n",
    "  \n",
    "# This prints 3 most frequent characters \n",
    "for letter, count in coun.most_common(3): \n",
    "    print('%s: %d' % (letter, count))"
   ]
  },
  {
   "cell_type": "code",
   "execution_count": null,
   "metadata": {},
   "outputs": [],
   "source": [
    "# Arithmetic operations in counter\n",
    "import collections\n",
    "\n",
    "c1 = collections.Counter(['a', 'b', 'c', 'a', 'b', 'b'])\n",
    "c2 = collections.Counter('alphabet')\n",
    "\n",
    "print ('C1:', c1)\n",
    "print ('C2:', c2)\n",
    "\n",
    "print ('\\nCombined counts:')\n",
    "print (c1 + c2)\n",
    "\n",
    "print ('\\nSubtraction:')\n",
    "print (c1 - c2)\n",
    "\n",
    "print ('\\nIntersection (taking positive minimums):')\n",
    "print (c1 & c2)\n",
    "\n",
    "print ('\\nUnion (taking maximums):')\n",
    "print (c1 | c2)"
   ]
  },
  {
   "cell_type": "markdown",
   "metadata": {},
   "source": [
    "## OrderedDict\n",
    "\n",
    "* It is a dictionary subclass which remembers the order in which the entries were added. \n",
    "* Basically, even if you change the value of the key, \n",
    "* the position will not be changed because of the order in which it was inserted in the dictionary."
   ]
  },
  {
   "cell_type": "code",
   "execution_count": null,
   "metadata": {},
   "outputs": [],
   "source": [
    "from collections import OrderedDict\n",
    "od = OrderedDict()\n",
    "od[1] = 's'\n",
    "od[2] = 't'\n",
    "od[3] = 'a'\n",
    "od[4] = 't'\n",
    "od[5] = 'e'\n",
    "print(od)"
   ]
  },
  {
   "cell_type": "code",
   "execution_count": null,
   "metadata": {},
   "outputs": [],
   "source": [
    "od = OrderedDict()\n",
    "od['a'] = 1\n",
    "od['b'] = 2\n",
    "od['c'] = 3\n",
    "print(od)"
   ]
  },
  {
   "cell_type": "code",
   "execution_count": null,
   "metadata": {},
   "outputs": [],
   "source": [
    "od.keys()"
   ]
  },
  {
   "cell_type": "code",
   "execution_count": null,
   "metadata": {},
   "outputs": [],
   "source": [
    "od.values()"
   ]
  },
  {
   "cell_type": "code",
   "execution_count": null,
   "metadata": {},
   "outputs": [],
   "source": [
    "for key, value in od.items():\n",
    "    print(key, value)"
   ]
  },
  {
   "cell_type": "code",
   "execution_count": null,
   "metadata": {},
   "outputs": [],
   "source": [
    "q = [\"a\",\"c\",\"c\",\"a\",\"b\",\"a\",\"a\",\"b\",\"c\"]\n",
    "cnt = Counter(q)\n",
    "od = OrderedDict(cnt.most_common())\n",
    "for key, value in od.items():\n",
    "    print(key, value)"
   ]
  },
  {
   "cell_type": "markdown",
   "metadata": {},
   "source": [
    "## Defaultdict\n",
    "\n",
    "* Defaultdict is a sub-class of the dict class that returns a dictionary-like object. \n",
    "* The functionality of both dictionaries and defualtdict are almost same except for the fact that \n",
    "defualtdict never raises a KeyError. \n",
    "* It provides a default value for the key that does not exists."
   ]
  },
  {
   "cell_type": "code",
   "execution_count": null,
   "metadata": {},
   "outputs": [],
   "source": [
    "from collections import defaultdict\n",
    "d = defaultdict(int)\n",
    "#we have to specify a type as well.\n",
    "d[1] = 'State'\n",
    "d[2] = 'python'\n",
    "print(d[3])\n",
    "#it will give the output as 0 instead of keyerror."
   ]
  },
  {
   "cell_type": "code",
   "execution_count": null,
   "metadata": {},
   "outputs": [],
   "source": [
    "nums = defaultdict(int)\n",
    "nums['one'] = 1\n",
    "nums['two'] = 2\n",
    "print(nums['three'])"
   ]
  },
  {
   "cell_type": "code",
   "execution_count": null,
   "metadata": {},
   "outputs": [],
   "source": [
    "from collections import defaultdict\n",
    "\n",
    "count = defaultdict(int)\n",
    "names_list = \"Mike John Mike Anna Mike John John Mike Mike Britney Smith Anna Smith\".split()\n",
    "for names in names_list:\n",
    "    count[names] +=1\n",
    "print(count)"
   ]
  },
  {
   "cell_type": "code",
   "execution_count": null,
   "metadata": {},
   "outputs": [],
   "source": [
    "# Function to return a default values for keys that is not present \n",
    "def def_value(): \n",
    "    return \"Not Present\"\n",
    "      \n",
    "# Defining the dict \n",
    "d = defaultdict(def_value) \n",
    "d[\"a\"] = 1\n",
    "d[\"b\"] = 2\n",
    "\n",
    "print(d[\"a\"]) \n",
    "print(d[\"b\"]) \n",
    "print(d[\"c\"])"
   ]
  },
  {
   "cell_type": "code",
   "execution_count": null,
   "metadata": {},
   "outputs": [],
   "source": [
    "# Defining the dict and passing  \n",
    "# lambda as default_factory argument \n",
    "d = defaultdict(lambda: \"Not Present\") \n",
    "d[\"a\"] = 1\n",
    "d[\"b\"] = 2\n",
    "  \n",
    "print(d[\"a\"]) \n",
    "print(d[\"b\"]) \n",
    "print(d[\"c\"])"
   ]
  },
  {
   "cell_type": "markdown",
   "metadata": {},
   "source": [
    "## Sets\n",
    "\n",
    "* A Set is an unordered collection data type that is iterable, mutable and has no duplicate elements.\n",
    "* The major advantage of using a set, as opposed to \n",
    "* a list, is that it has a highly optimized method for checking whether a specific element is contained in the set."
   ]
  },
  {
   "cell_type": "code",
   "execution_count": null,
   "metadata": {},
   "outputs": [],
   "source": [
    "Set = set([\"a\", \"b\", \"c\"]) \n",
    "  \n",
    "print(\"Set: \") \n",
    "print(Set) \n",
    "  \n",
    "# Adding element to the set \n",
    "Set.add(\"d\") \n",
    "  \n",
    "print(\"\\nSet after adding: \") \n",
    "print(Set) "
   ]
  },
  {
   "cell_type": "markdown",
   "metadata": {},
   "source": [
    "#### Frozen sets in Python are immutable objects that only support methods and operators that produce a result without affecting the frozen set or sets to which they are applied."
   ]
  },
  {
   "cell_type": "code",
   "execution_count": null,
   "metadata": {},
   "outputs": [],
   "source": [
    "normal_set = set([\"a\", \"b\",\"c\"]) \n",
    "  \n",
    "print(\"Normal Set\") \n",
    "print(normal_set) \n",
    "  \n",
    "# A frozen set \n",
    "frozen_set = frozenset([\"e\", \"f\", \"g\"]) \n",
    "  \n",
    "print(\"\\nFrozen Set\") \n",
    "print(frozen_set) \n",
    "  \n",
    "# we are trying to add element to a frozen set \n",
    "# frozen_set.add(\"h\")"
   ]
  },
  {
   "cell_type": "code",
   "execution_count": null,
   "metadata": {},
   "outputs": [],
   "source": [
    "# Adding Elements\n",
    "people = {\"Jay\", \"Idrish\", \"Archi\"} \n",
    "  \n",
    "print(\"People:\", end = \" \") \n",
    "print(people) \n",
    "  \n",
    "# This will add Daxit in the set \n",
    "people.add(\"Daxit\") \n",
    "  \n",
    "# Adding elements to the set using iterator \n",
    "for i in range(1, 6):  \n",
    "    people.add(i)  \n",
    "  \n",
    "print(\"\\nSet after adding element:\", end = \" \") \n",
    "print(people)"
   ]
  },
  {
   "cell_type": "code",
   "execution_count": null,
   "metadata": {},
   "outputs": [],
   "source": [
    "# initialize my_set\n",
    "my_set = {1,3}\n",
    "print(my_set)\n",
    "\n",
    "# my_set[0] # you will get an error TypeError: 'set' object does not support indexing\n",
    "\n",
    "# add an element\n",
    "my_set.add(2)\n",
    "print(my_set)\n",
    "\n",
    "# add multiple elements\n",
    "my_set.update([2,3,4])\n",
    "print(my_set)\n",
    "\n",
    "# add list and set\n",
    "my_set.update([4,5], {1,6,8})\n",
    "print(my_set)"
   ]
  },
  {
   "cell_type": "code",
   "execution_count": null,
   "metadata": {},
   "outputs": [],
   "source": [
    "# Union\n",
    "\n",
    "people = {\"Jay\", \"Idrish\", \"Archil\"} \n",
    "vampires = {\"Karan\", \"Arjun\"} \n",
    "dracula = {\"Deepanshu\", \"Raju\"} \n",
    "  \n",
    "# Union using union() function \n",
    "population = people.union(vampires) \n",
    "  \n",
    "print(\"Union using union() function\") \n",
    "print(population) \n",
    "  \n",
    "# Union using \"|\" operator \n",
    "population = people|dracula \n",
    "  \n",
    "print(\"\\nUnion using '|' operator\") \n",
    "print(population)"
   ]
  },
  {
   "cell_type": "code",
   "execution_count": null,
   "metadata": {},
   "outputs": [],
   "source": [
    "# Intersection\n",
    "\n",
    "set1 = set() \n",
    "set2 = set() \n",
    "  \n",
    "for i in range(5): \n",
    "    set1.add(i) \n",
    "  \n",
    "for i in range(3,9): \n",
    "    set2.add(i) \n",
    "  \n",
    "# Intersection using \n",
    "# intersection() function \n",
    "set3 = set1.intersection(set2) \n",
    "  \n",
    "print(\"Intersection using intersection() function\") \n",
    "print(set3) \n",
    "  \n",
    "# Intersection using \"&\" operator \n",
    "set3 = set1 & set2 \n",
    "  \n",
    "print(\"\\nIntersection using '&' operator\") \n",
    "print(set3) "
   ]
  },
  {
   "cell_type": "code",
   "execution_count": null,
   "metadata": {},
   "outputs": [],
   "source": [
    "# Difference\n",
    "\n",
    "set1 = set() \n",
    "set2 = set() \n",
    "  \n",
    "for i in range(5): \n",
    "    set1.add(i) \n",
    "  \n",
    "for i in range(3,9): \n",
    "    set2.add(i) \n",
    "  \n",
    "# Difference of two sets \n",
    "# using difference() function \n",
    "set3 = set1.difference(set2) \n",
    "  \n",
    "print(\" Difference of two sets using difference() function\") \n",
    "print(set3) \n",
    "  \n",
    "# Difference of two sets \n",
    "# using '-' operator \n",
    "set3 = set1 - set2 \n",
    "\n",
    "print(\"\\nDifference of two sets using '-' operator\") \n",
    "print(set3) "
   ]
  },
  {
   "cell_type": "code",
   "execution_count": null,
   "metadata": {},
   "outputs": [],
   "source": [
    "# Clear() method empties the whole set.\n",
    "\n",
    "set1 = {1,2,3,4,5,6} \n",
    "  \n",
    "print(\"Initial set\") \n",
    "print(set1) \n",
    "  \n",
    "# This method will remove all the elements of the set \n",
    "set1.clear() \n",
    "  \n",
    "print(\"\\nSet after using clear() function\") \n",
    "print(set1)"
   ]
  },
  {
   "cell_type": "code",
   "execution_count": null,
   "metadata": {},
   "outputs": [],
   "source": [
    "# Operations in set\n",
    "\n",
    "# Creating two sets \n",
    "set1 = set() \n",
    "set2 = set() \n",
    "  \n",
    "# Adding elements to set1 \n",
    "for i in range(1, 6): \n",
    "    set1.add(i) \n",
    " \n",
    "# Adding elements to set2 \n",
    "for i in range(3, 8): \n",
    "    set2.add(i) \n",
    "  \n",
    "print(\"Set1 = \", set1) \n",
    "print(\"Set2 = \", set2) \n",
    "print(\"\\n\") \n",
    "  \n",
    "# Union of set1 and set2 \n",
    "set3 = set1 | set2# set1.union(set2) \n",
    "print(\"Union of Set1 & Set2: Set3 = \", set3) \n",
    "  \n",
    "# Intersection of set1 and set2 \n",
    "set4 = set1 & set2# set1.intersection(set2) \n",
    "print(\"Intersection of Set1 & Set2: Set4 = \", set4) \n",
    "print(\"\\n\") \n",
    "  \n",
    "# Checking relation between set3 and set4 \n",
    "if set3 > set4: # set3.issuperset(set4) \n",
    "    print(\"Set3 is superset of Set4\") \n",
    "elif set3 < set4: # set3.issubset(set4) \n",
    "    print(\"Set3 is subset of Set4\") \n",
    "else : # set3 == set4 \n",
    "    print(\"Set3 is same as Set4\") \n",
    "  \n",
    "# displaying relation between set4 and set3 \n",
    "if set4 < set3: # set4.issubset(set3) \n",
    "    print(\"Set4 is subset of Set3\") \n",
    "    print(\"\\n\") \n",
    "  \n",
    "# difference between set3 and set4 \n",
    "set5 = set3 - set4 \n",
    "print(\"Elements in Set3 and not in Set4: Set5 = \", set5) \n",
    "print(\"\\n\") \n",
    "  \n",
    "# checkv if set4 and set5 are disjoint sets \n",
    "if set4.isdisjoint(set5): \n",
    "    print(\"Set4 and Set5 have nothing in common\\n\") \n",
    "  \n",
    "# Removing all the values of set5 \n",
    "set5.clear() \n",
    "  \n",
    "print(\"After applying clear on sets Set5: \") \n",
    "print(\"Set5 = \", set5) \n",
    "\n",
    "# initialize A and B\n",
    "A = {1, 2, 3, 4, 5}\n",
    "B = {4, 5, 6, 7, 8}\n",
    "\n",
    "# use ^ operator for symmetric difference\n",
    "print('\\nThe elements from both the sets without anything in common', A ^ B)"
   ]
  },
  {
   "cell_type": "code",
   "execution_count": null,
   "metadata": {},
   "outputs": [],
   "source": [
    "# initialize my_set\n",
    "my_set = {1, 3, 4, 5, 6}\n",
    "print(my_set)\n",
    "\n",
    "# discard an element\n",
    "my_set.discard(4)\n",
    "print(my_set)\n",
    "\n",
    "# remove an element\n",
    "my_set.remove(6)\n",
    "print(my_set)\n",
    "\n",
    "# discard an element\n",
    "# not present in my_set\n",
    "my_set.discard(2)\n",
    "print(my_set)\n",
    "\n",
    "# remove an element not present in my_set you will get an error Output: KeyError: 2\n",
    "\n",
    "# my_set.remove(2)"
   ]
  },
  {
   "cell_type": "markdown",
   "metadata": {},
   "source": [
    "## Global and Local Variables in Python\n",
    "* Global variables are the one that are defined and declared outside a function and we need to use them inside a function."
   ]
  },
  {
   "cell_type": "code",
   "execution_count": null,
   "metadata": {},
   "outputs": [],
   "source": [
    "# This function uses global variable s \n",
    "def f():\n",
    "    print(s)  \n",
    "\n",
    "# Global scope \n",
    "s = \"State Street\"\n",
    "f()"
   ]
  },
  {
   "cell_type": "markdown",
   "metadata": {},
   "source": [
    "#### If a variable with same name is defined inside the scope of function as well then it  will print the value given inside the function only and not the global value."
   ]
  },
  {
   "cell_type": "code",
   "execution_count": null,
   "metadata": {},
   "outputs": [],
   "source": [
    "# This function has a variable with name same as s. \n",
    "def f():  \n",
    "    s = \"Bellandur\"\n",
    "    print(s)  \n",
    "  \n",
    "# Global scope \n",
    "s = \"State Street\" \n",
    "f()\n",
    "print(s)"
   ]
  },
  {
   "cell_type": "code",
   "execution_count": null,
   "metadata": {},
   "outputs": [],
   "source": [
    "def f():  \n",
    "    print(s) \n",
    "    s = \"State Street\"\n",
    "\n",
    "  \n",
    "# Global scope \n",
    "s = \"Bellandur\"\n",
    "f() \n",
    "print(s)"
   ]
  },
  {
   "cell_type": "code",
   "execution_count": null,
   "metadata": {},
   "outputs": [],
   "source": [
    "a = 1 # a global Variable\n",
    "  \n",
    "# Uses global because there is no local 'a' \n",
    "def f(): \n",
    "    print ('Inside f() : ', a)\n",
    "  \n",
    "# Variable 'a' is redefined as a local \n",
    "def g():     \n",
    "    a = 2\n",
    "    print ('Inside g() : ',a)\n",
    "  \n",
    "# Uses global keyword to modify global 'a' \n",
    "def h():     \n",
    "    global a \n",
    "    a = 3\n",
    "    print ('Inside h() : ',a)\n",
    "  \n",
    "# Global scope \n",
    "print ('global : ',a)\n",
    "f() \n",
    "print ('global : ',a)\n",
    "g() \n",
    "print ('global : ',a)\n",
    "h() \n",
    "print ('global : ',a) \n",
    "print('\\nThe new value of a is', a)"
   ]
  }
 ],
 "metadata": {
  "kernelspec": {
   "display_name": "Python 3",
   "language": "python",
   "name": "python3"
  },
  "language_info": {
   "codemirror_mode": {
    "name": "ipython",
    "version": 3
   },
   "file_extension": ".py",
   "mimetype": "text/x-python",
   "name": "python",
   "nbconvert_exporter": "python",
   "pygments_lexer": "ipython3",
   "version": "3.7.4"
  }
 },
 "nbformat": 4,
 "nbformat_minor": 2
}
