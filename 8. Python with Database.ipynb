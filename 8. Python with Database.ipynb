{
 "cells": [
  {
   "cell_type": "markdown",
   "metadata": {},
   "source": [
    "# SQL with Python\n",
    "* To use SQL, we must import sqlite3.\n",
    "\n",
    "    * Then create a connection using connect() method and pass the name of the database \n",
    "        you want to access if there is a file with that name, it will open that file. \n",
    "        Otherwise Python will create a file with the given name.\n",
    "        \n",
    "\n",
    "* After this, a cursor object is called to be capable to send commands to the SQL. \n",
    "\n",
    "* Cursor is a control structure used to traverse and fetch the records of the database. \n",
    "* Cursor has a major role in working with Python. \n",
    "\n",
    "    * All the commands will be executed using cursor object only.\n",
    "    * To create a table in the database, create an object and write the SQL command in it with being commented.\n",
    "    * Example:- sql_comm = ”SQL statement”\n",
    "\n",
    "\n",
    "* And executing the command is very easy. Call the cursor method execute and pass the name of the sql \n",
    "command as a parameter in it. Save a number of commands as the sql_comm and execute them. \n",
    "\n",
    "* After you perform all your activities, save the changes in the file by committing those changes and then lose the connection."
   ]
  },
  {
   "cell_type": "code",
   "execution_count": null,
   "metadata": {},
   "outputs": [],
   "source": [
    "# Python code to demonstrate table creation and  \n",
    "# insertions with SQL \n",
    "  \n",
    "# importing module \n",
    "import sqlite3\n",
    "  \n",
    "# connecting to the database  \n",
    "connection = sqlite3.connect(\"myTable.db\") \n",
    "  \n",
    "# cursor  \n",
    "crsr = connection.cursor() \n",
    "  \n",
    "# SQL command to create a table in the database \n",
    "sql_command = \"\"\"CREATE TABLE emp (  \n",
    "staff_number INTEGER PRIMARY KEY,  \n",
    "fname VARCHAR(20),  \n",
    "lname VARCHAR(30),  \n",
    "gender CHAR(1),  \n",
    "joining DATE);\"\"\"\n",
    "  \n",
    "# execute the statement \n",
    "crsr.execute(sql_command) \n",
    "  \n",
    "# SQL command to insert the data in the table \n",
    "sql_command = \"\"\"INSERT INTO emp VALUES (23, \"Rishabh\", \"Bansal\", \"M\", \"2014-03-28\");\"\"\"\n",
    "crsr.execute(sql_command) \n",
    "  \n",
    "# another SQL command to insert the data in the table \n",
    "sql_command = \"\"\"INSERT INTO emp VALUES (1, \"Bill\", \"Gates\", \"M\", \"1980-10-28\");\"\"\"\n",
    "crsr.execute(sql_command) \n",
    "  \n",
    "# To save the changes in the files. Never skip this.  \n",
    "# If we skip this, nothing will be saved in the database. \n",
    "connection.commit() \n",
    "  \n",
    "# close the connection \n",
    "connection.close() "
   ]
  },
  {
   "cell_type": "markdown",
   "metadata": {},
   "source": [
    "### Fetching the data from record is simple as the inserting them"
   ]
  },
  {
   "cell_type": "code",
   "execution_count": null,
   "metadata": {},
   "outputs": [],
   "source": [
    "# connect withe the myTable database \n",
    "connection = sqlite3.connect(\"myTable.db\") \n",
    "  \n",
    "# cursor object \n",
    "crsr = connection.cursor() \n",
    "  \n",
    "# execute the command to fetch all the data from the table emp \n",
    "crsr.execute(\"SELECT * FROM emp\")  \n",
    "  \n",
    "# store all the fetched data in the ans variable \n",
    "ans= crsr.fetchall()  \n",
    "  \n",
    "# loop to print all the data \n",
    "for i in ans: \n",
    "    print(i)"
   ]
  },
  {
   "cell_type": "code",
   "execution_count": null,
   "metadata": {},
   "outputs": [],
   "source": [
    "# Updation and Deletion Operation\n",
    "\n",
    "conn = sqlite3.connect('myTable.db') \n",
    "  \n",
    "# update the student record \n",
    "conn.execute(\"UPDATE emp SET fname = 'Sam' where fname='Rishabh'\") \n",
    "conn.commit() \n",
    "  \n",
    "print (\"Total number of rows updated :\", conn.total_changes )\n",
    "  \n",
    "cursor = conn.execute(\"SELECT * FROM emp\") \n",
    "for row in cursor: \n",
    "   print (row)\n",
    "\n",
    "conn.close()"
   ]
  },
  {
   "cell_type": "code",
   "execution_count": null,
   "metadata": {},
   "outputs": [],
   "source": [
    "# database name to be passed as parameter \n",
    "conn = sqlite3.connect('myTable.db') \n",
    "  \n",
    "# delete student record from database \n",
    "conn.execute(\"DELETE from emp where fname='Sam'\") \n",
    "conn.commit() \n",
    "print (\"Total number of rows deleted :\", conn.total_changes)\n",
    "  \n",
    "cursor = conn.execute(\"SELECT * FROM emp\") \n",
    "for row in cursor: \n",
    "   print (row) \n",
    "  \n",
    "conn.close()"
   ]
  },
  {
   "cell_type": "markdown",
   "metadata": {},
   "source": [
    "### Data input by User"
   ]
  },
  {
   "cell_type": "code",
   "execution_count": null,
   "metadata": {},
   "outputs": [],
   "source": [
    "# creates a database in RAM \n",
    "con = sqlite3.connect(\":memory:\") \n",
    "cur = con.cursor() \n",
    "cur.execute(\"create table person (name, age, id)\") \n",
    "  \n",
    "print (\"Enter 5 students names:\") \n",
    "who = [input() for i in range(5)] \n",
    "print (\"Enter their ages respectively:\") \n",
    "age = [int(input()) for i in range(5)] \n",
    "print (\"Enter their ids respectively:\") \n",
    "p_id = [int(input()) for i in range(5)] \n",
    "n = len(who) \n",
    "  \n",
    "for i in range(n): \n",
    "  \n",
    "    # This is the q-mark style: \n",
    "    cur.execute(\"insert into person values (?, ?, ?)\", (who[i], age[i], p_id[i])) \n",
    "  \n",
    "    # And this is the named style: \n",
    "    cur.execute(\"select * from person\") \n",
    "  \n",
    "    # Fetches all entries from table \n",
    "    print (cur.fetchall())"
   ]
  },
  {
   "cell_type": "markdown",
   "metadata": {},
   "source": [
    "## Graphing with SQLite"
   ]
  },
  {
   "cell_type": "code",
   "execution_count": null,
   "metadata": {},
   "outputs": [],
   "source": [
    "import matplotlib.pyplot as plt \n",
    "  \n",
    "def graph_data(p_id,age): \n",
    "  \n",
    "    # plotting the points     \n",
    "    plt.plot(p_id, age, color='yellow', linestyle='dashed', linewidth = 3, \n",
    "    marker='*', markerfacecolor='blue', markersize=12) \n",
    "  \n",
    "    # naming the x axis \n",
    "    plt.xlabel('Persons Id') \n",
    "  \n",
    "    # naming the y axis \n",
    "    plt.ylabel('Ages') \n",
    "  \n",
    "    # plt.plot(p_id,age) \n",
    "    plt.show() \n",
    "  \n",
    "print (\"Enter 5 students names:\") \n",
    "who = [input() for i in range(5)] \n",
    "print (\"Enter their ages respectively:\") \n",
    "age = [int(input()) for i in range(5)] \n",
    "print (\"Enter their ids respectively:\") \n",
    "p_id = [int(input()) for i in range(5)] \n",
    "  \n",
    "# calling graph function \n",
    "graph_data(p_id,age)"
   ]
  },
  {
   "cell_type": "markdown",
   "metadata": {},
   "source": [
    "## executescript()\n",
    "* This is a convenience method for executing multiple SQL statements at once. \n",
    "It executes the SQL script it gets as a parameter."
   ]
  },
  {
   "cell_type": "code",
   "execution_count": null,
   "metadata": {},
   "outputs": [],
   "source": [
    "# Connection with the DataBase \n",
    "# 'library.db' \n",
    "connection = sqlite3.connect(\"library.db\") \n",
    "cursor = connection.cursor() \n",
    "  \n",
    "# SQL piece of code Executed \n",
    "# SQL piece of code Executed \n",
    "cursor.executescript(\"\"\" \n",
    "    CREATE TABLE people( \n",
    "        firstname, \n",
    "        lastname, \n",
    "        age \n",
    "    ); \n",
    "   \n",
    "    CREATE TABLE book( \n",
    "        title, \n",
    "        author, \n",
    "        published \n",
    "    ); \n",
    "   \n",
    "    INSERT INTO \n",
    "    book(title, author, published) \n",
    "    VALUES ( \n",
    "        'Dan Clarke''s GFG Detective Agency', \n",
    "        'Sean Simpsons', \n",
    "        1987 \n",
    "    ); \n",
    "    \"\"\") \n",
    "  \n",
    "sql = \"\"\" \n",
    "SELECT COUNT(*) FROM book;\"\"\"\n",
    "  \n",
    "cursor.execute(sql) \n",
    "  \n",
    "# The output in fetched and returned \n",
    "# as a List by fetchall() \n",
    "result = cursor.fetchall() \n",
    "print(result) \n",
    "  \n",
    "sql = \"\"\" \n",
    "SELECT * FROM book;\"\"\"\n",
    "  \n",
    "cursor.execute(sql) \n",
    "  \n",
    "result = cursor.fetchall() \n",
    "print(result) \n",
    "  \n",
    "# Changes saved into database \n",
    "connection.commit() \n",
    "  \n",
    "# Connection closed(broken)  \n",
    "# with DataBase \n",
    "connection.close() "
   ]
  },
  {
   "cell_type": "markdown",
   "metadata": {},
   "source": [
    "## executemany()\n",
    "\n",
    "* It is often the case when, large amount of data has to be inserted into database from \n",
    "Data Files(for simpler case take Lists, arrays). \n",
    "* It would be simple to iterate the code many a times than write every time, each line into database."
   ]
  },
  {
   "cell_type": "code",
   "execution_count": null,
   "metadata": {},
   "outputs": [],
   "source": [
    "# Connection with the DataBase \n",
    "# 'library.db' \n",
    "connection = sqlite3.connect(\"library.db\") \n",
    "cursor = connection.cursor() \n",
    "  \n",
    "# SQL piece of code Executed \n",
    "cursor.execute(\"\"\" \n",
    "      \n",
    "    CREATE TABLE books( \n",
    "        title, \n",
    "        author, \n",
    "        published);\"\"\") \n",
    "   \n",
    "List = [('A', 'B', 2008), ('C', 'D', 2008), \n",
    "                          ('E', 'F', 2010)] \n",
    "   \n",
    "connection. executemany(\"\"\" \n",
    "                   \n",
    "    INSERT INTO  \n",
    "    books(title, author, published)  \n",
    "    VALUES (?, ?, ?)\"\"\", List) \n",
    "  \n",
    "sql = \"\"\" \n",
    "      SELECT * FROM books;\"\"\"\n",
    "cursor.execute(sql) \n",
    "result = cursor.fetchall() \n",
    "for x in result: \n",
    "    print(x) \n",
    "  \n",
    "# Changes saved into database \n",
    "connection.commit() \n",
    "  \n",
    "# Connection closed(broken)  \n",
    "# with DataBase \n",
    "connection.close() "
   ]
  },
  {
   "cell_type": "code",
   "execution_count": null,
   "metadata": {},
   "outputs": [],
   "source": [
    "# Connection created with the \n",
    "# database using sqlite3.connect() \n",
    "connection = sqlite3.connect(\"company.db\") \n",
    "cursor = connection.cursor() \n",
    "  \n",
    "# Create Table command executed \n",
    "sql = \"\"\" \n",
    "        CREATE TABLE employee (  \n",
    "        ID INTEGER PRIMARY KEY,  \n",
    "        fname VARCHAR(20),  \n",
    "        lname VARCHAR(30),  \n",
    "        gender CHAR(1),  \n",
    "        dob DATE);\"\"\"\n",
    "cursor.execute(sql) \n",
    "  \n",
    "# Single Tuple inserted \n",
    "sql = \"\"\" \n",
    "        INSERT INTO employee \n",
    "        VALUES (1007, \"Will\", \"Olsen\", \"M\", \"24-SEP-1865\");\"\"\"\n",
    "cursor.execute(sql) \n",
    "  \n",
    "# Multiple Rows inserted \n",
    "List = [(1008, 'Rkb', 'Boss', 'M', \"27-NOV-1864\"), \n",
    "        (1098, 'Sak', 'Rose', 'F', \"27-DEC-1864\"), \n",
    "        (1908, 'Royal', 'Bassen', \"F\", \"17-NOV-1894\")] \n",
    "  \n",
    "connection.executemany( \n",
    "        \"INSERT INTO employee VALUES (?, ?, ?, ?, ?)\", List) \n",
    "  \n",
    "print(\"Method-1\\n\") \n",
    "  \n",
    "# Multiple Rows fetched from \n",
    "# the Database \n",
    "for row in connection.execute('SELECT * FROM employee ORDER BY ID'): \n",
    "        print (row) \n",
    "  \n",
    "print(\"\\nMethod-2\\n\") \n",
    "  \n",
    "# Method-2 to fetch multiple \n",
    "# rows \n",
    "sql = \"\"\" \n",
    "        SELECT * FROM employee ORDER BY ID;\"\"\"\n",
    "  \n",
    "cursor.execute(sql) \n",
    "result = cursor.fetchall() \n",
    "  \n",
    "for x in result: \n",
    "    print(x) \n",
    "  \n",
    "connection.commit() \n",
    "connection.close()"
   ]
  },
  {
   "cell_type": "code",
   "execution_count": null,
   "metadata": {},
   "outputs": [],
   "source": [
    "#How to Connect Python and SQL Server\n",
    "import pyodbc\n",
    "conn = pyodbc.connect(\"Driver={SQL Server Native Client 11.0};\"\n",
    "                      \"Server=LAPTOP-LFBVI1JS\\SQLEXPRESS;\"\n",
    "                      \"Database=master;\"\n",
    "                      \"Trusted_Connection=yes;\")\n",
    "\n",
    "cursor = conn.cursor()\n",
    "cursor.execute('SELECT * FROM blood_pressure')\n",
    "\n",
    "for row in cursor:\n",
    "    print('row = %r' % (row,))"
   ]
  },
  {
   "cell_type": "code",
   "execution_count": null,
   "metadata": {},
   "outputs": [],
   "source": [
    "# Python SQL Create DB Example\n",
    "cursor = conn.cursor()\n",
    "cursor.execute(\"SELECT name FROM master.dbo.sysdatabases\")\n",
    "\n",
    "for x in cursor:\n",
    "    print('Database = %r' %x)"
   ]
  },
  {
   "cell_type": "code",
   "execution_count": null,
   "metadata": {},
   "outputs": [],
   "source": [
    "conn.autocommit = True\n",
    "cursor = conn.cursor()\n",
    "cursor.execute(\"CREATE DATABASE [PythonDatabase1]\")"
   ]
  },
  {
   "cell_type": "code",
   "execution_count": null,
   "metadata": {},
   "outputs": [],
   "source": [
    "cursor = conn.cursor()\n",
    "cursor.execute(\"SELECT name FROM master.dbo.sysdatabases\")\n",
    "\n",
    "for x in cursor:\n",
    "    print('Database = %r' %x)"
   ]
  },
  {
   "cell_type": "code",
   "execution_count": null,
   "metadata": {},
   "outputs": [],
   "source": [
    "# Using the Select Statement\n",
    "cursor = conn.cursor()\n",
    "cursor.execute('SELECT patient, sex, agegrp, bp_before from blood_pressure')\n",
    "\n",
    "for row in cursor:\n",
    "    print('row = %r' % (row,))"
   ]
  },
  {
   "cell_type": "code",
   "execution_count": null,
   "metadata": {},
   "outputs": [],
   "source": [
    "#Another Select Statement\n",
    "cursor = conn.cursor()\n",
    "cursor.execute('SELECT * FROM blood_pressure')\n",
    "result = cursor.fetchone()\n",
    "print(result)"
   ]
  },
  {
   "cell_type": "code",
   "execution_count": null,
   "metadata": {},
   "outputs": [],
   "source": [
    "# Order By Statement\n",
    "cursor = conn.cursor()\n",
    "cursor.execute('SELECT * FROM blood_pressure ORDER BY agegrp')\n",
    "\n",
    "for row in cursor:\n",
    "    print('row = %r' % (row,))"
   ]
  },
  {
   "cell_type": "code",
   "execution_count": null,
   "metadata": {},
   "outputs": [],
   "source": [
    "# Order By Statement - Descending Order\n",
    "cursor = conn.cursor()\n",
    "cursor.execute('SELECT * FROM blood_pressure ORDER BY agegrp desc')\n",
    "\n",
    "for row in cursor:\n",
    "    print('row = %r' % (row,))"
   ]
  },
  {
   "cell_type": "code",
   "execution_count": null,
   "metadata": {},
   "outputs": [],
   "source": [
    "#Selection Top N items\n",
    "cursor = conn.cursor()\n",
    "cursor.execute('SELECT Top 1 * FROM blood_pressure')\n",
    "for row in cursor:\n",
    "    print('row = %r' % (row,))"
   ]
  },
  {
   "cell_type": "code",
   "execution_count": null,
   "metadata": {},
   "outputs": [],
   "source": [
    "#Selection Top N items and Ordering by\n",
    "cursor = conn.cursor()\n",
    "cursor.execute('SELECT Top 10 * FROM blood_pressure ORDER BY agegrp desc')\n",
    "for row in cursor:\n",
    "    print('row = %r' % (row,))"
   ]
  },
  {
   "cell_type": "code",
   "execution_count": null,
   "metadata": {},
   "outputs": [],
   "source": [
    "#Selection Top N items by Percentage and Ordering by\n",
    "cursor = conn.cursor()\n",
    "cursor.execute('SELECT Top 40 Percent * FROM blood_pressure ORDER BY agegrp desc')\n",
    "for row in cursor:\n",
    "    print('row = %r' % (row,))"
   ]
  },
  {
   "cell_type": "code",
   "execution_count": null,
   "metadata": {},
   "outputs": [],
   "source": [
    "#Selecting Data by Where Clause\n",
    "cursor = conn.cursor()\n",
    "cursor.execute(\"SELECT * FROM blood_pressure where sex = 'Male' ORDER BY agegrp desc\")\n",
    "for row in cursor:\n",
    "    print('row = %r' % (row,))"
   ]
  },
  {
   "cell_type": "code",
   "execution_count": null,
   "metadata": {},
   "outputs": [],
   "source": [
    "#Selecting Data by Where Clause\n",
    "cursor = conn.cursor()\n",
    "cursor.execute(\"SELECT * FROM blood_pressure where bp_before >= 130 ORDER BY agegrp desc\")\n",
    "for row in cursor:\n",
    "    print('row = %r' % (row,))"
   ]
  }
 ],
 "metadata": {
  "kernelspec": {
   "display_name": "Python 3",
   "language": "python",
   "name": "python3"
  },
  "language_info": {
   "codemirror_mode": {
    "name": "ipython",
    "version": 3
   },
   "file_extension": ".py",
   "mimetype": "text/x-python",
   "name": "python",
   "nbconvert_exporter": "python",
   "pygments_lexer": "ipython3",
   "version": "3.7.4"
  }
 },
 "nbformat": 4,
 "nbformat_minor": 2
}
