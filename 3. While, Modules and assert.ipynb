{
 "cells": [
  {
   "cell_type": "markdown",
   "metadata": {},
   "source": [
    "## Python While Loops\n",
    "\n",
    "* In Python, While Loops is used to execute a block of statements repeatedly until a given condition is satisfied.\n",
    "* And when the condition becomes false, the line immediately after the loop in the program is executed. \n",
    "* While loop falls under the category of indefinite iteration.\n",
    "* Indefinite iteration means that the number of times the loop is executed isn’t specified explicitly in advance.\n",
    "\n",
    "<img src = https://media.geeksforgeeks.org/wp-content/uploads/20191101170515/while-loop.jpg width = 400>"
   ]
  },
  {
   "cell_type": "code",
   "execution_count": null,
   "metadata": {},
   "outputs": [],
   "source": [
    "# While Loops\n",
    "\n",
    "temp = 0 \n",
    "while temp!=-1000:\n",
    "    temp = eval(input('Enter a temperature (-1000 to quit): ')) \n",
    "    print('In Fahrenheit that is', 9/5*temp+32)\n",
    "print('The loop is over now')"
   ]
  },
  {
   "cell_type": "code",
   "execution_count": null,
   "metadata": {},
   "outputs": [],
   "source": [
    "i = 0\n",
    "while i !=10:\n",
    "    i+= 1\n",
    "    print(i)   "
   ]
  },
  {
   "cell_type": "code",
   "execution_count": null,
   "metadata": {},
   "outputs": [],
   "source": [
    "i = 0\n",
    "while i!=10:\n",
    "    print(i)\n",
    "    i+= 1"
   ]
  },
  {
   "cell_type": "code",
   "execution_count": null,
   "metadata": {},
   "outputs": [],
   "source": [
    "for i in range(10):\n",
    "    print(i)"
   ]
  },
  {
   "cell_type": "code",
   "execution_count": null,
   "metadata": {},
   "outputs": [],
   "source": [
    "temp = 0 \n",
    "while temp!=-1000:\n",
    "    temp = eval(input('Enter a temperature (-1000 to quit): ')) \n",
    "    if temp!=-1000:\n",
    "        print('In Fahrenheit that is', 9/5*temp+32)\n",
    "    else:\n",
    "        print('Bye!')"
   ]
  },
  {
   "cell_type": "code",
   "execution_count": null,
   "metadata": {},
   "outputs": [],
   "source": [
    "from random import randint \n",
    "secret_num = randint(1,5) \n",
    "guess = 0 \n",
    "while guess != secret_num:\n",
    "    guess = eval(input('Guess the secret number: '))\n",
    "print('You finally got it!')"
   ]
  },
  {
   "cell_type": "code",
   "execution_count": null,
   "metadata": {},
   "outputs": [],
   "source": [
    "for i in range(10):\n",
    "    print(i)"
   ]
  },
  {
   "cell_type": "code",
   "execution_count": null,
   "metadata": {},
   "outputs": [],
   "source": [
    "i = 0\n",
    "while i < 10:\n",
    "    print(i)\n",
    "    i = i + 1"
   ]
  },
  {
   "cell_type": "code",
   "execution_count": null,
   "metadata": {},
   "outputs": [],
   "source": [
    "temp = eval(input('Enter a temperature in Celsius: '))\n",
    "if temp<-273.15:\n",
    "    print('That temperature is not possible.')\n",
    "else:\n",
    "    print('In Fahrenheit, that is', 9/5*temp+32)"
   ]
  },
  {
   "cell_type": "code",
   "execution_count": null,
   "metadata": {},
   "outputs": [],
   "source": [
    "temp = eval(input('Enter a temperature in Celsius: ')) \n",
    "while temp<-273.15: \n",
    "    temp = eval(input('Impossible. Enter a valid temperature: ')) \n",
    "print('In Fahrenheit, that is', 9/5*temp+32)"
   ]
  },
  {
   "cell_type": "code",
   "execution_count": null,
   "metadata": {},
   "outputs": [],
   "source": [
    "i = 0 \n",
    "while i<20: \n",
    "    print(i, end = ' ') \n",
    "    i=i+2 \n",
    "print('Bye!')"
   ]
  },
  {
   "cell_type": "code",
   "execution_count": null,
   "metadata": {},
   "outputs": [],
   "source": [
    "# Infinte Loops\n",
    "i=0 \n",
    "while i<10: \n",
    "    print(i)"
   ]
  },
  {
   "cell_type": "markdown",
   "metadata": {},
   "source": [
    "## Break statement\n",
    "\n",
    "* The break statement is used to terminate the loop or statement in which it is present. \n",
    "* After that, the control will pass to the statements that are present after the break statement, if available. \n",
    "* If the break statement is present in the nested loop, then it terminates only those loops which contains break statement.\n",
    "\n",
    "<img src = https://media.geeksforgeeks.org/wp-content/uploads/break-2.jpg width = 400>"
   ]
  },
  {
   "cell_type": "code",
   "execution_count": null,
   "metadata": {},
   "outputs": [],
   "source": [
    "# The break statement\n",
    "\n",
    "for i in range(10):\n",
    "    num = eval(input('Enter number: ')) \n",
    "    if num<0: \n",
    "        break"
   ]
  },
  {
   "cell_type": "code",
   "execution_count": null,
   "metadata": {},
   "outputs": [],
   "source": [
    "# Same in While Loop\n",
    "\n",
    "i=0 \n",
    "num=1 \n",
    "while i<10 and num>0: \n",
    "    num = eval(input('Enter a number: '))"
   ]
  },
  {
   "cell_type": "code",
   "execution_count": null,
   "metadata": {},
   "outputs": [],
   "source": [
    "temp = 0 \n",
    "while temp!=-1000: \n",
    "    temp = eval(input('Please give a temp: '))\n",
    "    if temp!=-1000:\n",
    "        print(9/5*temp+32)\n",
    "    else:\n",
    "        print('Bye!')"
   ]
  },
  {
   "cell_type": "code",
   "execution_count": null,
   "metadata": {},
   "outputs": [],
   "source": [
    "while True:\n",
    "    temp = eval(input('Please give a temp: ')) \n",
    "    if temp==-1000:\n",
    "        print('Bye')\n",
    "        break\n",
    "    print(9/5*temp+32) "
   ]
  },
  {
   "cell_type": "code",
   "execution_count": null,
   "metadata": {},
   "outputs": [],
   "source": [
    "# Using Else with For Loop\n",
    "\n",
    "for i in range(10): \n",
    "    num = eval(input('Enter number: ')) \n",
    "    if num<0: \n",
    "        print('Stopped early') \n",
    "        break \n",
    "    else:\n",
    "        print(num*num)\n",
    "else:\n",
    "    print('User entered all ten values')"
   ]
  },
  {
   "cell_type": "code",
   "execution_count": null,
   "metadata": {},
   "outputs": [],
   "source": [
    "# to check if an integer num is prime\n",
    "\n",
    "num = eval(input('Please enter a number to see if the given input is Prime or not: '))\n",
    "for i in range(2, num): \n",
    "    if num%i==0:\n",
    "        print('Not prime')\n",
    "        break\n",
    "else: \n",
    "    print('Prime')"
   ]
  },
  {
   "cell_type": "code",
   "execution_count": null,
   "metadata": {},
   "outputs": [],
   "source": [
    "num = eval(input('Please enter a number to see if the given input is Prime or not: '))\n",
    "i = 2\n",
    "while i<num and num%i!=0:\n",
    "    i=i+1\n",
    "if i==num:\n",
    "    print('Prime')\n",
    "else:\n",
    "    print('Not prime')"
   ]
  },
  {
   "cell_type": "markdown",
   "metadata": {},
   "source": [
    "### The guessing game - Using Both While and For Loop\n",
    "\n",
    "* The player only gets ﬁve turns.\n",
    "* The program tells the player after each guess if the number is higher or lower.\n",
    "* The program prints appropriate messages for when the player wins and loses.\n"
   ]
  },
  {
   "cell_type": "code",
   "execution_count": null,
   "metadata": {},
   "outputs": [],
   "source": [
    "secret_num = randint(1,100)"
   ]
  },
  {
   "cell_type": "code",
   "execution_count": null,
   "metadata": {},
   "outputs": [],
   "source": [
    "from random import randint\n",
    "num_guesses = 0 \n",
    "guess = 0\n",
    "while guess != secret_num and num_guesses <= 4: \n",
    "    guess = eval(input('Enter your guess (1-100): ')) \n",
    "    num_guesses = num_guesses + 1 \n",
    "    if guess < secret_num:\n",
    "        print('HIGHER.', 5-num_guesses, 'guesses left.\\n') \n",
    "    elif guess > secret_num: \n",
    "        print('LOWER.', 5-num_guesses, 'guesses left.\\n') \n",
    "    else:\n",
    "        print('You got it!')\n",
    "\n",
    "if num_guesses==5 and guess != secret_num: \n",
    "    print('You lose. The correct number is', secret_num)"
   ]
  },
  {
   "cell_type": "code",
   "execution_count": null,
   "metadata": {},
   "outputs": [],
   "source": [
    "for num_guesses in range(5):\n",
    "    guess = eval(input('Enter your guess (1-100): ')) \n",
    "    if guess < secret_num: \n",
    "        print('HIGHER.', 5-num_guesses, 'guesses left.\\n') \n",
    "    elif guess > secret_num: \n",
    "        print('LOWER.', 5-num_guesses, 'guesses left.\\n') \n",
    "    else: \n",
    "        print('You got it!') \n",
    "        break \n",
    "else:\n",
    "    print('You lose. The correct number is', secret_num)"
   ]
  },
  {
   "cell_type": "code",
   "execution_count": null,
   "metadata": {},
   "outputs": [],
   "source": [
    "# Exercises\n",
    "\n",
    "#1 Print 2, 5, 8, 11, 14, 17, 20 with a while loop.\n",
    "\n",
    "i = 2\n",
    "while i < 21:\n",
    "    print(i, end =' ')\n",
    "    i = i + 3"
   ]
  },
  {
   "cell_type": "code",
   "execution_count": null,
   "metadata": {},
   "outputs": [],
   "source": [
    "#2 Print 100, 99, 98, ... 1 with a while loop.\n",
    "\n",
    "i = 100\n",
    "while i != 0:\n",
    "    print(i, end =' ')\n",
    "    i= i - 1"
   ]
  },
  {
   "cell_type": "code",
   "execution_count": null,
   "metadata": {},
   "outputs": [],
   "source": [
    "#3 User enters numbers until a negative.  Then sum is printed, excluding negative.\n",
    "\n",
    "num = 0\n",
    "total = 0\n",
    "while num >= 0:\n",
    "    num = eval(input('Please enter a Positive number, (enter a negative number to break): '))\n",
    "    if num >=0:\n",
    "        total = num + total\n",
    "print(total)"
   ]
  },
  {
   "cell_type": "code",
   "execution_count": null,
   "metadata": {},
   "outputs": [],
   "source": [
    "#4 User enters numbers from 1 to 10, stopping with a 5.  Print out how many numbers and whether a 3 was entered.\n",
    "num = 0\n",
    "count = 0\n",
    "flag = False\n",
    "while num != 5:\n",
    "    num = eval(input('Enter a number (5 to stop): '))\n",
    "    count += 1\n",
    "    if num == 3:\n",
    "        flag = True\n",
    "print('The number of numbers given is:', count)\n",
    "\n",
    "if flag:\n",
    "    print('Yes, A 3 has been entered')\n",
    "else:\n",
    "    print('No, A 3 has not been entered')"
   ]
  },
  {
   "cell_type": "markdown",
   "metadata": {},
   "source": [
    "## Continue statement\n",
    "* Continue is also a loop control statement just like the break statement. \n",
    "* continue statement is opposite to that of break statement, instead of terminating the loop, it forces to execute the \n",
    "next iteration of the loop.\n",
    "* As the name suggests the continue statement forces the loop to continue or execute the next iteration. \n",
    "* When the continue statement is executed in the loop, the code inside the loop following the \n",
    "continue statement will be skipped and the next iteration of the loop will begin.\n",
    "\n",
    "<img src = https://media.geeksforgeeks.org/wp-content/uploads/continue-1.jpg width = 400>"
   ]
  },
  {
   "cell_type": "code",
   "execution_count": null,
   "metadata": {},
   "outputs": [],
   "source": [
    "# loop from 1 to 10 - Continue Statement\n",
    "for i in range(1, 11): \n",
    "    if i == 6: \n",
    "        continue\n",
    "    else:\n",
    "        print(i, end = \" \")"
   ]
  },
  {
   "cell_type": "code",
   "execution_count": null,
   "metadata": {},
   "outputs": [],
   "source": [
    "for letter in 'Python':\n",
    "    if letter == 'h':\n",
    "        continue\n",
    "    print ('Current Letter :', letter)"
   ]
  },
  {
   "cell_type": "code",
   "execution_count": null,
   "metadata": {},
   "outputs": [],
   "source": [
    "var = 10\n",
    "while var > 0:              \n",
    "    var = var -1\n",
    "    if var == 5:\n",
    "        continue\n",
    "    print ('Current variable value :', var)\n",
    "print(\"Good bye!\")"
   ]
  },
  {
   "cell_type": "code",
   "execution_count": null,
   "metadata": {},
   "outputs": [],
   "source": [
    "# program to display only odd numbers\n",
    "for num in [20, 11, 9, 66, 4, 89, 44]:\n",
    "    if num%2 == 0:\n",
    "        continue\n",
    "    print(num, end =' ')"
   ]
  },
  {
   "cell_type": "markdown",
   "metadata": {},
   "source": [
    "## Pass Statements\n",
    "* As the name suggests pass statement simply does nothing. \n",
    "* The pass statement in Python is used when a statement is required syntactically but you do not want any \n",
    "command or code to execute. It is like null operation, as nothing will happen is it is executed. \n",
    "* Pass statement can also be used for writing empty loops. \n",
    "* Pass is also used for empty control statement, function and classes."
   ]
  },
  {
   "cell_type": "code",
   "execution_count": null,
   "metadata": {},
   "outputs": [],
   "source": [
    "# Pass Statements\n",
    "\n",
    "for letter in 'Python': \n",
    "    if letter == 'h':\n",
    "        pass\n",
    "        print('This is pass block')\n",
    "    print('Current Letter :', letter)\n",
    "\n",
    "print(\"Good bye!\")"
   ]
  },
  {
   "cell_type": "markdown",
   "metadata": {},
   "source": [
    "## Python | assert keyword\n",
    "\n",
    "* Assertions in any programming language are the debugging tools which help in smooth flow of code.\n",
    "* Assertions are mainly assumptions that a programmer knows always wants to be true and hence puts them in code so \n",
    "that failure of them doesn’t allow the code to execute further.\n",
    "\n",
    "* In python assert keyword helps in achieving this task. \n",
    "* This statement simply takes input a boolean condition, which when returns true doesn’t return anything, but if it is \n",
    "computed to be false, then it raises an AssertionError along with the optional message provided."
   ]
  },
  {
   "cell_type": "code",
   "execution_count": null,
   "metadata": {},
   "outputs": [],
   "source": [
    "# Assert\n",
    "\n",
    "x = \"hello\"\n",
    "\n",
    "#if condition returns True, then nothing happens:\n",
    "assert x == \"hello\"\n",
    "\n",
    "#if condition returns False, AssertionError is raised:\n",
    "assert x == \"goodbye\""
   ]
  },
  {
   "cell_type": "code",
   "execution_count": null,
   "metadata": {},
   "outputs": [],
   "source": [
    "x = \"hello\"\n",
    "\n",
    "#if condition returns False, AssertionError is raised:\n",
    "assert x == \"goodbye\", \"X should be 'hello'\""
   ]
  },
  {
   "cell_type": "code",
   "execution_count": null,
   "metadata": {},
   "outputs": [],
   "source": [
    "x = input('Please enter the right string: ')\n",
    "guess = input('Please guess a right string: ')\n",
    "\n",
    "#if condition returns False, AssertionError is raised:\n",
    "assert x == \"goodbye\", \"X should be {}\".format(x)"
   ]
  },
  {
   "cell_type": "markdown",
   "metadata": {},
   "source": [
    "## Lamda Function\n",
    "\n",
    "* As we already know that def keyword is used to define the normal functions \n",
    "and the lambda keyword is used to create anonymous functions. It has the following syntax:\n",
    "\n",
    "### lambda arguments:\n",
    "* This function can have any number of arguments but only one expression, which is evaluated and returned.\n",
    "    * One is free to use lambda functions wherever function objects are required.\n",
    "    * You need to keep in your knowledge that lambda functions are syntactically restricted to a single expression.\n",
    "    * It has various uses in particular fields of programming besides other types of expressions in functions.\n",
    "    \n",
    "### Use of lambda() with filter()\n",
    "\n",
    "* The filter() function in Python takes in a function and a list as arguments.\n",
    "* This offers an elegant way to filter out all the elements of a sequence “sequence”, for which the function returns True. \n",
    "\n",
    "### Use of lambda() with map()\n",
    "\n",
    "* The map() function in Python takes in a function and a list as argument. \n",
    "* The function is called with a lambda function and a list and a new list is returned which contains all the \n",
    "lambda modified items returned by that function for each item.\n",
    "\n",
    "### Use of lambda() with reduce()\n",
    "\n",
    "* The reduce() function in Python takes in a function and a list as argument. \n",
    "* The function is called with a lambda function and a list and a new reduced result is returned. \n",
    "* This performs a repetitive operation over the pairs of the list. "
   ]
  },
  {
   "cell_type": "code",
   "execution_count": null,
   "metadata": {},
   "outputs": [],
   "source": [
    "# Lambda Function\n",
    "\n",
    "adder = lambda x, y: x + y\n",
    "print (adder (1, 2))"
   ]
  },
  {
   "cell_type": "code",
   "execution_count": null,
   "metadata": {},
   "outputs": [],
   "source": [
    "x = lambda x,y : x + y\n",
    "print(x(5,10))"
   ]
  },
  {
   "cell_type": "code",
   "execution_count": null,
   "metadata": {},
   "outputs": [],
   "source": [
    "x = lambda a, b, c : a + b + c\n",
    "print(x(5, 6, 2))"
   ]
  },
  {
   "cell_type": "code",
   "execution_count": null,
   "metadata": {},
   "outputs": [],
   "source": [
    "(lambda x: x + 1)(2)"
   ]
  },
  {
   "cell_type": "code",
   "execution_count": null,
   "metadata": {},
   "outputs": [],
   "source": [
    "def myfunc(n):\n",
    "    return lambda a : a * n"
   ]
  },
  {
   "cell_type": "code",
   "execution_count": null,
   "metadata": {},
   "outputs": [],
   "source": [
    "def myfunc(n):\n",
    "      return lambda a : a * n\n",
    "\n",
    "mydoubler = myfunc(2)\n",
    "\n",
    "print(mydoubler(22))"
   ]
  },
  {
   "cell_type": "code",
   "execution_count": null,
   "metadata": {},
   "outputs": [],
   "source": [
    "def myfunc(n):\n",
    "    return lambda a : a * n\n",
    "\n",
    "mydoubler = myfunc(2)\n",
    "mytripler = myfunc(3)\n",
    "\n",
    "print(mydoubler(11))\n",
    "print(mytripler(11))"
   ]
  },
  {
   "cell_type": "code",
   "execution_count": null,
   "metadata": {},
   "outputs": [],
   "source": [
    "# Lambda with a Filter\n",
    "\n",
    "sequences = [10,2,8,7,5,4,3,11,0, 1]\n",
    "filtered_result = filter (lambda x: x > 4, sequences) \n",
    "print(list(filtered_result))"
   ]
  },
  {
   "cell_type": "code",
   "execution_count": null,
   "metadata": {},
   "outputs": [],
   "source": [
    "my_list = [1, 5, 4, 6, 8, 11, 3, 12]\n",
    "\n",
    "new_list = list(filter(lambda x: (x%2 == 0) , my_list))\n",
    "\n",
    "print(new_list)"
   ]
  },
  {
   "cell_type": "code",
   "execution_count": null,
   "metadata": {},
   "outputs": [],
   "source": [
    "sequences = 10,15\n",
    "filtered_result = (lambda x: x*x)(sequences)\n",
    "print(tuple(filtered_result))"
   ]
  },
  {
   "cell_type": "code",
   "execution_count": null,
   "metadata": {},
   "outputs": [],
   "source": [
    "# lambdas in map()\n",
    "\n",
    "sequences = [10,2,8,7,5,4,3,11,0, 1]\n",
    "filtered_result = map (lambda x: x*x, sequences) \n",
    "print(list(filtered_result))"
   ]
  },
  {
   "cell_type": "code",
   "execution_count": 6,
   "metadata": {},
   "outputs": [
    {
     "name": "stdout",
     "output_type": "stream",
     "text": [
      "193\n"
     ]
    }
   ],
   "source": [
    "# Python code to illustrate  \n",
    "# reduce() with lambda() \n",
    "# to get sum of a list \n",
    "from functools import reduce\n",
    "li = [5, 8, 10, 20, 50, 100] \n",
    "sum = reduce((lambda x, y: x + y), li) \n",
    "print (sum)"
   ]
  },
  {
   "cell_type": "markdown",
   "metadata": {},
   "source": [
    "## Python Modules\n",
    "\n",
    "* A module is a file containing Python definitions and statements. \n",
    "* A module can define functions, classes and variables. A module can also include runnable code.\n",
    "* Grouping related code into a module makes the code easier to understand and use."
   ]
  },
  {
   "cell_type": "code",
   "execution_count": null,
   "metadata": {},
   "outputs": [],
   "source": [
    "import Testmodule as tm"
   ]
  },
  {
   "cell_type": "code",
   "execution_count": null,
   "metadata": {},
   "outputs": [],
   "source": [
    "print(tm.add(5,4))\n",
    "print(tm.mul(5,4))"
   ]
  },
  {
   "cell_type": "code",
   "execution_count": null,
   "metadata": {},
   "outputs": [],
   "source": [
    "print(tm.greeting(\"Jonathan\"))"
   ]
  },
  {
   "cell_type": "code",
   "execution_count": null,
   "metadata": {},
   "outputs": [],
   "source": [
    "a = tm.person1[\"age\"]\n",
    "print(a)"
   ]
  },
  {
   "cell_type": "code",
   "execution_count": null,
   "metadata": {},
   "outputs": [],
   "source": [
    "# Using the dir function\n",
    "\n",
    "dir(Testmodule)"
   ]
  },
  {
   "cell_type": "code",
   "execution_count": null,
   "metadata": {},
   "outputs": [],
   "source": [
    "# Important Standard Modules\n",
    "# OS Module\n",
    "# Creating a New Directory\n",
    "\n",
    "import os\n",
    "os.mkdir(\"c:\\\\tempdir\")"
   ]
  },
  {
   "cell_type": "code",
   "execution_count": null,
   "metadata": {},
   "outputs": [],
   "source": [
    "# Changing the current working directory\n",
    "os.chdir(\"c:\\\\tempdir\")"
   ]
  },
  {
   "cell_type": "code",
   "execution_count": null,
   "metadata": {},
   "outputs": [],
   "source": [
    "# to access the current working directory\n",
    "os.getcwd()"
   ]
  },
  {
   "cell_type": "code",
   "execution_count": null,
   "metadata": {},
   "outputs": [],
   "source": [
    "# Other way of Changing to directory\n",
    "os.chdir(\"c:\\\\\")\n",
    "os.getcwd()\n",
    "os.chdir(\"tempdir\")\n",
    "os.getcwd()"
   ]
  },
  {
   "cell_type": "code",
   "execution_count": null,
   "metadata": {},
   "outputs": [],
   "source": [
    "# Trying to remove the working directory\n",
    "os.rmdir(\"c:\\\\tempdir\")"
   ]
  },
  {
   "cell_type": "code",
   "execution_count": null,
   "metadata": {},
   "outputs": [],
   "source": [
    "# Come back to the parent directory and remove any directory inside it\n",
    "os.chdir(\"..\")\n",
    "os.rmdir(\"tempdir\")"
   ]
  },
  {
   "cell_type": "code",
   "execution_count": null,
   "metadata": {},
   "outputs": [],
   "source": [
    "os.listdir('Program Files')"
   ]
  },
  {
   "cell_type": "code",
   "execution_count": null,
   "metadata": {},
   "outputs": [],
   "source": [
    "import sys\n",
    "sys.version"
   ]
  },
  {
   "cell_type": "code",
   "execution_count": null,
   "metadata": {},
   "outputs": [],
   "source": [
    "sys.path"
   ]
  },
  {
   "cell_type": "code",
   "execution_count": null,
   "metadata": {},
   "outputs": [],
   "source": [
    "import math\n",
    "math.pi"
   ]
  },
  {
   "cell_type": "code",
   "execution_count": null,
   "metadata": {},
   "outputs": [],
   "source": [
    "math.e"
   ]
  },
  {
   "cell_type": "code",
   "execution_count": null,
   "metadata": {},
   "outputs": [],
   "source": [
    "math.radians(30)"
   ]
  },
  {
   "cell_type": "code",
   "execution_count": null,
   "metadata": {},
   "outputs": [],
   "source": [
    "math.degrees(math.pi/6)"
   ]
  },
  {
   "cell_type": "code",
   "execution_count": null,
   "metadata": {},
   "outputs": [],
   "source": [
    "math.sin(0.5235987755982988)"
   ]
  },
  {
   "cell_type": "code",
   "execution_count": null,
   "metadata": {},
   "outputs": [],
   "source": [
    "math.cos(0.5235987755982988)"
   ]
  },
  {
   "cell_type": "code",
   "execution_count": null,
   "metadata": {},
   "outputs": [],
   "source": [
    "math.log(10)"
   ]
  },
  {
   "cell_type": "code",
   "execution_count": null,
   "metadata": {},
   "outputs": [],
   "source": [
    "math.log10(10)"
   ]
  },
  {
   "cell_type": "code",
   "execution_count": null,
   "metadata": {},
   "outputs": [],
   "source": [
    "math.exp(10)"
   ]
  },
  {
   "cell_type": "code",
   "execution_count": null,
   "metadata": {},
   "outputs": [],
   "source": [
    "math.e**10"
   ]
  },
  {
   "cell_type": "code",
   "execution_count": null,
   "metadata": {},
   "outputs": [],
   "source": [
    "math.pow(2,4)"
   ]
  },
  {
   "cell_type": "code",
   "execution_count": null,
   "metadata": {},
   "outputs": [],
   "source": [
    "math.sqrt(100)"
   ]
  },
  {
   "cell_type": "code",
   "execution_count": null,
   "metadata": {},
   "outputs": [],
   "source": [
    "math.ceil(4.5867)"
   ]
  },
  {
   "cell_type": "code",
   "execution_count": null,
   "metadata": {},
   "outputs": [],
   "source": [
    "math.floor(4.5687)"
   ]
  },
  {
   "cell_type": "code",
   "execution_count": null,
   "metadata": {},
   "outputs": [],
   "source": [
    "import statistics\n",
    "statistics.mean([2,5,6,9])"
   ]
  },
  {
   "cell_type": "code",
   "execution_count": null,
   "metadata": {},
   "outputs": [],
   "source": [
    "statistics.median([1,2,3,8,9])"
   ]
  },
  {
   "cell_type": "code",
   "execution_count": null,
   "metadata": {},
   "outputs": [],
   "source": [
    "statistics.mode([2,5,3,2,8,3,9,4,2,5,6])"
   ]
  },
  {
   "cell_type": "code",
   "execution_count": null,
   "metadata": {},
   "outputs": [],
   "source": [
    "statistics.stdev([1,1.5,2,2.5,3,3.5,4,4.5,5])"
   ]
  }
 ],
 "metadata": {
  "kernelspec": {
   "display_name": "Python 3",
   "language": "python",
   "name": "python3"
  },
  "language_info": {
   "codemirror_mode": {
    "name": "ipython",
    "version": 3
   },
   "file_extension": ".py",
   "mimetype": "text/x-python",
   "name": "python",
   "nbconvert_exporter": "python",
   "pygments_lexer": "ipython3",
   "version": "3.7.4"
  }
 },
 "nbformat": 4,
 "nbformat_minor": 2
}
