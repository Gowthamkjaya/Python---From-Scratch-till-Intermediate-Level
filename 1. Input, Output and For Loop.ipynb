{
 "cells": [
  {
   "cell_type": "markdown",
   "metadata": {},
   "source": [
    "## Python | Output using print() function\n",
    "\n",
    "* The simplest way to produce output is using the print() function where you can pass zero or more expressions \n",
    "separated by commas. \n",
    "* This function converts the expressions you pass into a string before writing to the screen."
   ]
  },
  {
   "cell_type": "code",
   "execution_count": null,
   "metadata": {},
   "outputs": [],
   "source": [
    "print('Hello World')"
   ]
  },
  {
   "cell_type": "code",
   "execution_count": null,
   "metadata": {},
   "outputs": [],
   "source": [
    "a = 10\n",
    "b = 20\n",
    "x = a + b\n",
    "print(a)"
   ]
  },
  {
   "cell_type": "code",
   "execution_count": null,
   "metadata": {},
   "outputs": [],
   "source": [
    "Case Sensitive Language\n",
    "print <> Print <> PRINT"
   ]
  },
  {
   "cell_type": "code",
   "execution_count": null,
   "metadata": {},
   "outputs": [],
   "source": [
    "print(\"Hello World\") #quotations doesn't matter"
   ]
  },
  {
   "cell_type": "code",
   "execution_count": null,
   "metadata": {},
   "outputs": [],
   "source": [
    "print('Hello world')\n",
    "            print('Hello World')"
   ]
  },
  {
   "cell_type": "markdown",
   "metadata": {},
   "source": [
    "## input ( )\n",
    "* This function first takes the input from the user and then evaluates the expression, which means Python automatically identifies whether user entered a string or a number or list. \n",
    "* If the input provided is not correct then either syntax error or exception is raised by python\n",
    "\n",
    "## eval ( )\n",
    "\n",
    "* The eval() method parses the expression passed to it and runs python expression(code) within the program."
   ]
  },
  {
   "cell_type": "code",
   "execution_count": null,
   "metadata": {},
   "outputs": [],
   "source": [
    "# Write first Program\n",
    "\n",
    "num1 = eval(input('Enter your weight in kilograms:'))\n",
    "print('Your weight in Pounds is: ', num1*2.2)"
   ]
  },
  {
   "cell_type": "code",
   "execution_count": null,
   "metadata": {},
   "outputs": [],
   "source": [
    "type(num1)"
   ]
  },
  {
   "cell_type": "code",
   "execution_count": null,
   "metadata": {},
   "outputs": [],
   "source": [
    "# input function by default comes as a str"
   ]
  },
  {
   "cell_type": "code",
   "execution_count": null,
   "metadata": {},
   "outputs": [],
   "source": [
    "a = input('Your age:')"
   ]
  },
  {
   "cell_type": "code",
   "execution_count": null,
   "metadata": {},
   "outputs": [],
   "source": [
    "type(name)"
   ]
  },
  {
   "cell_type": "code",
   "execution_count": null,
   "metadata": {},
   "outputs": [],
   "source": [
    "name = input('Please enter your name:')\n",
    "print('Hello',name,'!!!')"
   ]
  },
  {
   "cell_type": "code",
   "execution_count": null,
   "metadata": {},
   "outputs": [],
   "source": [
    "num1 = eval(input('Enter your weight in kilograms:'))\n",
    "num2 = eval(input('Enter your Height in Cms:'))\n",
    "print('Your Height is {} and your weight in Pounds is:{}'.format(num2, num1*2.2))"
   ]
  },
  {
   "cell_type": "code",
   "execution_count": null,
   "metadata": {},
   "outputs": [],
   "source": [
    "num1"
   ]
  },
  {
   "cell_type": "code",
   "execution_count": null,
   "metadata": {},
   "outputs": [],
   "source": [
    "print('The avg weight of a product:',num1, sep = '---')"
   ]
  },
  {
   "cell_type": "code",
   "execution_count": null,
   "metadata": {},
   "outputs": [],
   "source": [
    "num1 = eval(input('Enter your weight in kilograms:'))\n",
    "num2 = eval(input('Enter your Height in Cms:'))\n",
    "print('Your Height is {} and your weight in Pounds is:{}'.format(num2, num1*2.2))"
   ]
  },
  {
   "cell_type": "code",
   "execution_count": null,
   "metadata": {},
   "outputs": [],
   "source": [
    "print(num1, 'is the Random number generated', sep = '---')"
   ]
  },
  {
   "cell_type": "code",
   "execution_count": null,
   "metadata": {},
   "outputs": [],
   "source": [
    "print('The first line is', end = '---')\n",
    "print('And the second line is')"
   ]
  },
  {
   "cell_type": "code",
   "execution_count": null,
   "metadata": {},
   "outputs": [],
   "source": [
    "num = range(5,10)\n",
    "num"
   ]
  },
  {
   "cell_type": "code",
   "execution_count": null,
   "metadata": {},
   "outputs": [],
   "source": [
    "range(100,50, -2)"
   ]
  },
  {
   "cell_type": "code",
   "execution_count": null,
   "metadata": {},
   "outputs": [],
   "source": [
    "range(10)"
   ]
  },
  {
   "cell_type": "markdown",
   "metadata": {},
   "source": [
    "## loops\n",
    "\n",
    "* Python programming language provides following types of loops to handle looping requirements. \n",
    "* Python provides three ways for executing the loops. While all the ways provide similar basic functionality, \n",
    "they differ in their syntax and condition checking time.\n",
    "\n",
    "### for Loop:\n",
    "    \n",
    "* For loops are used for sequential traversal. For example: traversing a list or string or array etc.\n",
    "* In Python, there is no C style for loop, i.e., for (i=0; i<n; i++). \n",
    "* There is “for in” loop which is similar to for each loop in other languages.\n",
    "\n",
    "\n",
    "<img src = https://media.geeksforgeeks.org/wp-content/uploads/20191101172216/for-loop-python.jpg width = 500> \n"
   ]
  },
  {
   "cell_type": "code",
   "execution_count": null,
   "metadata": {},
   "outputs": [],
   "source": [
    "for i in range(10):\n",
    "    print(i)"
   ]
  },
  {
   "cell_type": "code",
   "execution_count": null,
   "metadata": {},
   "outputs": [],
   "source": [
    "for i in range(10):\n",
    "    print(i, end = ' ')"
   ]
  },
  {
   "cell_type": "code",
   "execution_count": null,
   "metadata": {},
   "outputs": [],
   "source": [
    "for i in range(2,5):\n",
    "    print(i)"
   ]
  },
  {
   "cell_type": "code",
   "execution_count": null,
   "metadata": {},
   "outputs": [],
   "source": [
    "for i in range(2,11,2):\n",
    "    print(i)"
   ]
  },
  {
   "cell_type": "code",
   "execution_count": null,
   "metadata": {},
   "outputs": [],
   "source": [
    "Range = eval(input('Please enter a range: '))\n",
    "for i in range(Range):\n",
    "    num = eval(input('Please specify a number to be squared: '))\n",
    "    print(\"The Squared Value of the given number is:\", num*num)\n",
    "print('The Loop is done now!!')"
   ]
  },
  {
   "cell_type": "markdown",
   "metadata": {},
   "source": [
    "## Random Numbers in Python\n",
    "\n",
    "* Python defines a set of functions that are used to generate or manipulate random numbers. \n",
    "* This particular type of functions are used in a lot of games,\n",
    "lotteries or any application requiring random number generation."
   ]
  },
  {
   "cell_type": "code",
   "execution_count": null,
   "metadata": {},
   "outputs": [],
   "source": [
    "from random import randint "
   ]
  },
  {
   "cell_type": "code",
   "execution_count": null,
   "metadata": {},
   "outputs": [],
   "source": [
    "import random"
   ]
  },
  {
   "cell_type": "code",
   "execution_count": null,
   "metadata": {},
   "outputs": [],
   "source": [
    "a = randint(1,10)\n",
    "Guess = eval(input('Please Guess a number:'))\n",
    "if a == Guess:\n",
    "    print('You are a Genius')\n",
    "else:\n",
    "    print('Try again!')"
   ]
  },
  {
   "cell_type": "code",
   "execution_count": null,
   "metadata": {},
   "outputs": [],
   "source": [
    "Guess = eval(input('Please provide your Temperature:'))\n",
    "if Guess<10:\n",
    "    print('Very Cold, get a jacket!')\n",
    "elif Guess >10:\n",
    "    print('You are in a better place')\n",
    "else:\n",
    "    print('Good Job!')"
   ]
  },
  {
   "cell_type": "code",
   "execution_count": null,
   "metadata": {},
   "outputs": [],
   "source": [
    "print('*************')\n",
    "print('*************')\n",
    "print('*************')\n",
    "print('*************')"
   ]
  },
  {
   "cell_type": "code",
   "execution_count": null,
   "metadata": {},
   "outputs": [],
   "source": [
    "print('*************')\n",
    "print('*           *')\n",
    "print('*           *')\n",
    "print('*************')"
   ]
  }
 ],
 "metadata": {
  "kernelspec": {
   "display_name": "Python 3",
   "language": "python",
   "name": "python3"
  },
  "language_info": {
   "codemirror_mode": {
    "name": "ipython",
    "version": 3
   },
   "file_extension": ".py",
   "mimetype": "text/x-python",
   "name": "python",
   "nbconvert_exporter": "python",
   "pygments_lexer": "ipython3",
   "version": "3.7.4"
  }
 },
 "nbformat": 4,
 "nbformat_minor": 2
}
